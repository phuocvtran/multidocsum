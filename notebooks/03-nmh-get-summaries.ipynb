{
 "metadata": {
  "language_info": {
   "codemirror_mode": {
    "name": "ipython",
    "version": 3
   },
   "file_extension": ".py",
   "mimetype": "text/x-python",
   "name": "python",
   "nbconvert_exporter": "python",
   "pygments_lexer": "ipython3",
   "version": "3.7.6-final"
  },
  "orig_nbformat": 2,
  "kernelspec": {
   "name": "python3",
   "display_name": "Python 3"
  }
 },
 "nbformat": 4,
 "nbformat_minor": 2,
 "cells": [
  {
   "cell_type": "code",
   "execution_count": 18,
   "metadata": {},
   "outputs": [
    {
     "output_type": "stream",
     "name": "stdout",
     "text": [
      "Processing /home/hieunm/TextMining/multidocsum\n",
      "Requirement already satisfied: nltk==3.5 in /home/hieunm/anaconda3/lib/python3.7/site-packages (from multidocsum==0.0.1) (3.5)\n",
      "Requirement already satisfied: numpy==1.19.4 in /home/hieunm/anaconda3/lib/python3.7/site-packages (from multidocsum==0.0.1) (1.19.4)\n",
      "Requirement already satisfied: regex==2020.11.13 in /home/hieunm/anaconda3/lib/python3.7/site-packages (from multidocsum==0.0.1) (2020.11.13)\n",
      "Requirement already satisfied: scikit-learn==0.21.3 in /home/hieunm/anaconda3/lib/python3.7/site-packages (from multidocsum==0.0.1) (0.21.3)\n",
      "Requirement already satisfied: scipy==1.5.4 in /home/hieunm/anaconda3/lib/python3.7/site-packages (from multidocsum==0.0.1) (1.5.4)\n",
      "Requirement already satisfied: underthesea==1.2.2 in /home/hieunm/anaconda3/lib/python3.7/site-packages (from multidocsum==0.0.1) (1.2.2)\n",
      "Requirement already satisfied: pyvi==0.1 in /home/hieunm/anaconda3/lib/python3.7/site-packages (from multidocsum==0.0.1) (0.1)\n",
      "Requirement already satisfied: pandas==1.1.4 in /home/hieunm/anaconda3/lib/python3.7/site-packages (from multidocsum==0.0.1) (1.1.4)\n",
      "Requirement already satisfied: tqdm in /home/hieunm/anaconda3/lib/python3.7/site-packages (from nltk==3.5->multidocsum==0.0.1) (4.42.1)\n",
      "Requirement already satisfied: click in /home/hieunm/anaconda3/lib/python3.7/site-packages (from nltk==3.5->multidocsum==0.0.1) (7.0)\n",
      "Requirement already satisfied: joblib in /home/hieunm/anaconda3/lib/python3.7/site-packages (from nltk==3.5->multidocsum==0.0.1) (0.14.1)\n",
      "Requirement already satisfied: unidecode in /home/hieunm/anaconda3/lib/python3.7/site-packages (from underthesea==1.2.2->multidocsum==0.0.1) (1.1.1)\n",
      "Requirement already satisfied: tabulate in /home/hieunm/anaconda3/lib/python3.7/site-packages (from underthesea==1.2.2->multidocsum==0.0.1) (0.8.7)\n",
      "Requirement already satisfied: python-crfsuite>=0.9.6 in /home/hieunm/anaconda3/lib/python3.7/site-packages (from underthesea==1.2.2->multidocsum==0.0.1) (0.9.7)\n",
      "Requirement already satisfied: requests in /home/hieunm/anaconda3/lib/python3.7/site-packages (from underthesea==1.2.2->multidocsum==0.0.1) (2.22.0)\n",
      "Requirement already satisfied: sklearn-crfsuite in /home/hieunm/anaconda3/lib/python3.7/site-packages (from pyvi==0.1->multidocsum==0.0.1) (0.3.6)\n",
      "Requirement already satisfied: pytz>=2017.2 in /home/hieunm/anaconda3/lib/python3.7/site-packages (from pandas==1.1.4->multidocsum==0.0.1) (2019.3)\n",
      "Requirement already satisfied: python-dateutil>=2.7.3 in /home/hieunm/anaconda3/lib/python3.7/site-packages (from pandas==1.1.4->multidocsum==0.0.1) (2.8.1)\n",
      "Requirement already satisfied: certifi>=2017.4.17 in /home/hieunm/anaconda3/lib/python3.7/site-packages (from requests->underthesea==1.2.2->multidocsum==0.0.1) (2019.11.28)\n",
      "Requirement already satisfied: chardet<3.1.0,>=3.0.2 in /home/hieunm/anaconda3/lib/python3.7/site-packages (from requests->underthesea==1.2.2->multidocsum==0.0.1) (3.0.4)\n",
      "Requirement already satisfied: urllib3!=1.25.0,!=1.25.1,<1.26,>=1.21.1 in /home/hieunm/anaconda3/lib/python3.7/site-packages (from requests->underthesea==1.2.2->multidocsum==0.0.1) (1.25.8)\n",
      "Requirement already satisfied: idna<2.9,>=2.5 in /home/hieunm/anaconda3/lib/python3.7/site-packages (from requests->underthesea==1.2.2->multidocsum==0.0.1) (2.8)\n",
      "Requirement already satisfied: six in /home/hieunm/anaconda3/lib/python3.7/site-packages (from sklearn-crfsuite->pyvi==0.1->multidocsum==0.0.1) (1.14.0)\n",
      "Building wheels for collected packages: multidocsum\n",
      "  Building wheel for multidocsum (setup.py) ... \u001b[?25ldone\n",
      "\u001b[?25h  Created wheel for multidocsum: filename=multidocsum-0.0.1-py3-none-any.whl size=8431 sha256=eebe0c130db00e2a2e180fbeb69aae901bf7a7e1974964cf771a731dcbdc9b66\n",
      "  Stored in directory: /tmp/pip-ephem-wheel-cache-txjzhb8d/wheels/c6/cd/5a/9ec9ef8017e7bde05e4cfc0305ff43fb2204ade629ffb3d836\n",
      "Successfully built multidocsum\n",
      "Installing collected packages: multidocsum\n",
      "  Attempting uninstall: multidocsum\n",
      "    Found existing installation: multidocsum 0.0.1\n",
      "    Uninstalling multidocsum-0.0.1:\n",
      "      Successfully uninstalled multidocsum-0.0.1\n",
      "Successfully installed multidocsum-0.0.1\n",
      "Requirement already satisfied: rouge-score in /home/hieunm/anaconda3/lib/python3.7/site-packages (0.0.4)\n",
      "Requirement already satisfied: absl-py in /home/hieunm/anaconda3/lib/python3.7/site-packages (from rouge-score) (0.11.0)\n",
      "Requirement already satisfied: six>=1.14.0 in /home/hieunm/anaconda3/lib/python3.7/site-packages (from rouge-score) (1.14.0)\n",
      "Requirement already satisfied: nltk in /home/hieunm/anaconda3/lib/python3.7/site-packages (from rouge-score) (3.5)\n",
      "Requirement already satisfied: numpy in /home/hieunm/anaconda3/lib/python3.7/site-packages (from rouge-score) (1.19.4)\n",
      "Requirement already satisfied: joblib in /home/hieunm/anaconda3/lib/python3.7/site-packages (from nltk->rouge-score) (0.14.1)\n",
      "Requirement already satisfied: tqdm in /home/hieunm/anaconda3/lib/python3.7/site-packages (from nltk->rouge-score) (4.42.1)\n",
      "Requirement already satisfied: click in /home/hieunm/anaconda3/lib/python3.7/site-packages (from nltk->rouge-score) (7.0)\n",
      "Requirement already satisfied: regex in /home/hieunm/anaconda3/lib/python3.7/site-packages (from nltk->rouge-score) (2020.11.13)\n"
     ]
    }
   ],
   "source": [
    "!pip install ..\n",
    "!pip install rouge-score"
   ]
  },
  {
   "cell_type": "code",
   "execution_count": 20,
   "metadata": {},
   "outputs": [],
   "source": [
    "from src.models.extracting import Extractor\n",
    "from src.data.data_io import DataIO\n",
    "import numpy as np\n",
    "from glob import glob"
   ]
  },
  {
   "cell_type": "code",
   "execution_count": 12,
   "metadata": {},
   "outputs": [],
   "source": [
    "cluster_name = []\n",
    "for path in glob('../data/interim/extract_content/*'):\n",
    "    cluster_name.append(path.split('/')[-1])"
   ]
  },
  {
   "cell_type": "code",
   "execution_count": 21,
   "metadata": {},
   "outputs": [],
   "source": [
    "my_sum = {}\n",
    "gold_sum = {}\n",
    "for name in cluster_name[:3]:\n",
    "    params = {\n",
    "        'data_path': f'../data/interim/extract_content/{name}',\n",
    "        'stop_words_path': '../data/external/stopwords.txt', \n",
    "        'punc_path': '../data/external/punctuation.txt',\n",
    "        'compression_rate': 0.05,\n",
    "        'remove_redundacy': True,\n",
    "        'wc': 1.0, \n",
    "        'wp': 1.0, \n",
    "        'wf': 1.0, \n",
    "        'n_centroid': 10, \n",
    "        'C_max': 10, \n",
    "        'ngram_range': (1, 1), \n",
    "        'max_features': 100,\n",
    "        'func': np.dot\n",
    "    }\n",
    "    summary = Extractor.extract(**params)\n",
    "    os.makedirs(f'../../predict/{name}', exist_ok=True)\n",
    "    with open(f'../../predict/{name}/summary.txt', 'w') as f:\n",
    "        f.write('\\n'.join(summary))\n",
    "        my_sum[name] = '\\n'.join(summary)\n",
    "        gold_sum[name] = DataIO.load(f'../data/raw/ViMs/summary/{name}')"
   ]
  },
  {
   "cell_type": "code",
   "execution_count": 30,
   "metadata": {},
   "outputs": [],
   "source": [
    "from rouge_score import rouge_scorer"
   ]
  },
  {
   "cell_type": "code",
   "execution_count": 38,
   "metadata": {},
   "outputs": [],
   "source": [
    "scorer = rouge_scorer.RougeScorer(['rouge1', 'rouge2', 'rouge3', 'rouge4'])"
   ]
  },
  {
   "cell_type": "code",
   "execution_count": 58,
   "metadata": {},
   "outputs": [],
   "source": [
    "mean = {}\n",
    "for cluster in my_sum:\n",
    "    mean[cluster] = {}\n",
    "    precision = []\n",
    "    precision.append(scorer.score(gold_sum[cluster]['0.gold.txt'], my_sum[cluster])['rouge1'].precision)\n",
    "    mean[cluster]['precision'] = precision[0]    \n",
    "    recall = []\n",
    "    recall.append(scorer.score(gold_sum[cluster]['0.gold.txt'], my_sum[cluster])['rouge1'].recall)\n",
    "    mean[cluster]['recall'] = recall[0]"
   ]
  },
  {
   "cell_type": "code",
   "execution_count": 59,
   "metadata": {},
   "outputs": [
    {
     "output_type": "execute_result",
     "data": {
      "text/plain": [
       "{'Cluster_060': {'precision': 0.8916967509025271,\n",
       "  'recall': 0.5995145631067961},\n",
       " 'Cluster_108': {'precision': 0.5578947368421052,\n",
       "  'recall': 0.8091603053435115},\n",
       " 'Cluster_271': {'precision': 0.4578313253012048,\n",
       "  'recall': 0.9606741573033708}}"
      ]
     },
     "metadata": {},
     "execution_count": 59
    }
   ],
   "source": [
    "mean"
   ]
  }
 ]
}