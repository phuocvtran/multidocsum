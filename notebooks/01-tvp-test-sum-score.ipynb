{
 "cells": [
  {
   "cell_type": "code",
   "execution_count": 1,
   "metadata": {},
   "outputs": [
    {
     "output_type": "stream",
     "name": "stdout",
     "text": [
      "Processing /mnt/HQ/uni/text-mining/multidocsum\n",
      "Requirement already satisfied: nltk==3.5 in /home/miu/miniconda3/envs/text-mining/lib/python3.7/site-packages (from multidocsum==0.0.1) (3.5)\n",
      "Requirement already satisfied: numpy==1.19.4 in /home/miu/miniconda3/envs/text-mining/lib/python3.7/site-packages (from multidocsum==0.0.1) (1.19.4)\n",
      "Requirement already satisfied: regex==2020.11.13 in /home/miu/miniconda3/envs/text-mining/lib/python3.7/site-packages (from multidocsum==0.0.1) (2020.11.13)\n",
      "Requirement already satisfied: scikit-learn==0.21.3 in /home/miu/miniconda3/envs/text-mining/lib/python3.7/site-packages (from multidocsum==0.0.1) (0.21.3)\n",
      "Requirement already satisfied: scipy==1.5.4 in /home/miu/miniconda3/envs/text-mining/lib/python3.7/site-packages (from multidocsum==0.0.1) (1.5.4)\n",
      "Requirement already satisfied: underthesea==1.2.2 in /home/miu/miniconda3/envs/text-mining/lib/python3.7/site-packages (from multidocsum==0.0.1) (1.2.2)\n",
      "Requirement already satisfied: pyvi==0.1 in /home/miu/miniconda3/envs/text-mining/lib/python3.7/site-packages (from multidocsum==0.0.1) (0.1)\n",
      "Requirement already satisfied: pandas==1.1.4 in /home/miu/miniconda3/envs/text-mining/lib/python3.7/site-packages (from multidocsum==0.0.1) (1.1.4)\n",
      "Requirement already satisfied: joblib in /home/miu/miniconda3/envs/text-mining/lib/python3.7/site-packages (from nltk==3.5->multidocsum==0.0.1) (0.17.0)\n",
      "Requirement already satisfied: tqdm in /home/miu/miniconda3/envs/text-mining/lib/python3.7/site-packages (from nltk==3.5->multidocsum==0.0.1) (4.51.0)\n",
      "Requirement already satisfied: click in /home/miu/miniconda3/envs/text-mining/lib/python3.7/site-packages (from nltk==3.5->multidocsum==0.0.1) (7.1.2)\n",
      "Requirement already satisfied: requests in /home/miu/miniconda3/envs/text-mining/lib/python3.7/site-packages (from underthesea==1.2.2->multidocsum==0.0.1) (2.25.0)\n",
      "Requirement already satisfied: python-crfsuite>=0.9.6 in /home/miu/miniconda3/envs/text-mining/lib/python3.7/site-packages (from underthesea==1.2.2->multidocsum==0.0.1) (0.9.7)\n",
      "Requirement already satisfied: tabulate in /home/miu/miniconda3/envs/text-mining/lib/python3.7/site-packages (from underthesea==1.2.2->multidocsum==0.0.1) (0.8.7)\n",
      "Requirement already satisfied: unidecode in /home/miu/miniconda3/envs/text-mining/lib/python3.7/site-packages (from underthesea==1.2.2->multidocsum==0.0.1) (1.1.1)\n",
      "Requirement already satisfied: sklearn-crfsuite in /home/miu/miniconda3/envs/text-mining/lib/python3.7/site-packages (from pyvi==0.1->multidocsum==0.0.1) (0.3.6)\n",
      "Requirement already satisfied: pytz>=2017.2 in /home/miu/miniconda3/envs/text-mining/lib/python3.7/site-packages (from pandas==1.1.4->multidocsum==0.0.1) (2020.4)\n",
      "Requirement already satisfied: python-dateutil>=2.7.3 in /home/miu/miniconda3/envs/text-mining/lib/python3.7/site-packages (from pandas==1.1.4->multidocsum==0.0.1) (2.8.1)\n",
      "Requirement already satisfied: urllib3<1.27,>=1.21.1 in /home/miu/miniconda3/envs/text-mining/lib/python3.7/site-packages (from requests->underthesea==1.2.2->multidocsum==0.0.1) (1.26.2)\n",
      "Requirement already satisfied: idna<3,>=2.5 in /home/miu/miniconda3/envs/text-mining/lib/python3.7/site-packages (from requests->underthesea==1.2.2->multidocsum==0.0.1) (2.10)\n",
      "Requirement already satisfied: chardet<4,>=3.0.2 in /home/miu/miniconda3/envs/text-mining/lib/python3.7/site-packages (from requests->underthesea==1.2.2->multidocsum==0.0.1) (3.0.4)\n",
      "Requirement already satisfied: certifi>=2017.4.17 in /home/miu/miniconda3/envs/text-mining/lib/python3.7/site-packages (from requests->underthesea==1.2.2->multidocsum==0.0.1) (2020.6.20)\n",
      "Requirement already satisfied: six in /home/miu/miniconda3/envs/text-mining/lib/python3.7/site-packages (from sklearn-crfsuite->pyvi==0.1->multidocsum==0.0.1) (1.15.0)\n",
      "Building wheels for collected packages: multidocsum\n",
      "  Building wheel for multidocsum (setup.py) ... \u001b[?25ldone\n",
      "\u001b[?25h  Created wheel for multidocsum: filename=multidocsum-0.0.1-py3-none-any.whl size=8469 sha256=c69c65313a90b162ef4c9a69d569ef56a74026e9a4410f41c596a492e954a7ee\n",
      "  Stored in directory: /tmp/pip-ephem-wheel-cache-fgeem4gw/wheels/02/74/95/c7b282f469bd75d8476184f75ec79b255b390a90201a66b918\n",
      "Successfully built multidocsum\n",
      "Installing collected packages: multidocsum\n",
      "  Attempting uninstall: multidocsum\n",
      "    Found existing installation: multidocsum 0.0.1\n",
      "    Uninstalling multidocsum-0.0.1:\n",
      "      Successfully uninstalled multidocsum-0.0.1\n",
      "Successfully installed multidocsum-0.0.1\n"
     ]
    }
   ],
   "source": [
    "!pip install .."
   ]
  },
  {
   "cell_type": "code",
   "execution_count": 2,
   "metadata": {},
   "outputs": [],
   "source": [
    "from src.data.data_io import DataIO\n",
    "from src.features.utils import Utils\n",
    "from src.features.scoring import Scorer"
   ]
  },
  {
   "cell_type": "code",
   "execution_count": 3,
   "metadata": {},
   "outputs": [],
   "source": [
    "data = DataIO.load('../data/interim/extract_content/Cluster_001')"
   ]
  },
  {
   "cell_type": "code",
   "execution_count": 4,
   "metadata": {},
   "outputs": [],
   "source": [
    "processed_data, data = Utils.preprocess(data, \n",
    "                                        stop_words_path='../data/external/stopwords.txt', \n",
    "                                        punc_path='../data/external/punctuation.txt')"
   ]
  },
  {
   "cell_type": "code",
   "execution_count": 5,
   "metadata": {},
   "outputs": [
    {
     "output_type": "stream",
     "name": "stdout",
     "text": [
      "CPU times: user 242 ms, sys: 8.7 ms, total: 251 ms\nWall time: 253 ms\n"
     ]
    }
   ],
   "source": [
    "%%time\n",
    "df = Scorer.scoring_sentences(data, processed_data, wc=1.0, wp=1.0, wf=1.0)"
   ]
  },
  {
   "cell_type": "code",
   "execution_count": 8,
   "metadata": {},
   "outputs": [
    {
     "output_type": "execute_result",
     "data": {
      "text/plain": [
       "                                                   raw  \\\n",
       "128  Pascal Hess, người Pháp là một trong số 66 ngư...   \n",
       "43   Tổng thư ký Tổ chức Hiệp ước Bắc Đại Tây Dương...   \n",
       "117  Samar Ezz Eldin là một trong những người có mặ...   \n",
       "148  Chiếc Airbus A320-232 số hiệu MS804 của hãng h...   \n",
       "0    Hãng tin RIA Novosti của Nga dẫn nguồn tin từ ...   \n",
       "..                                                 ...   \n",
       "41   Các tay súng thuộc phong trào Hezbollah của Li...   \n",
       "199  Người này định chụp một số ảnh về thân nhân hà...   \n",
       "114  Khủng bố lại là nguyên nhân đầu tiên các nhà đ...   \n",
       "42   Hiện các binh lính của chính phủ Syria đang ti...   \n",
       "67     Ngoài ra, còn có 10 thành viên phi hành đoàn./.   \n",
       "\n",
       "                                             processed    doc  pos  \\\n",
       "128  pascal_hess người pháp một trong số 66 người t...  5.txt    1   \n",
       "43   tổng_thư_ký tổ_chức hiệp_ước bắc_đại_tây_dương...  3.txt    1   \n",
       "117  samar ezz eldin một trong người có_mặt chuyến ...  7.txt    1   \n",
       "148  airbus a320 232 số_hiệu ms804 hãng hàng egypta...  8.txt    1   \n",
       "0    hãng tin ria novosti nga dẫn nguồn tin trang a...  4.txt    1   \n",
       "..                                                 ...    ...  ...   \n",
       "41   tay súng thuộc phong_trào hezbollah liban đóng...  2.txt   16   \n",
       "199  người định chụp một_số ảnh về thân_nhân hành_k...  9.txt   19   \n",
       "114  khủng_bố nguyên_nhân đầu_tiên nhà điều_tra ngh...  1.txt   47   \n",
       "42   hiện binh_lính chính_phủ syria tiếp_tục đẩy_mạ...  2.txt   17   \n",
       "67            ngoài_ra còn 10 thành_viên phi_hành_đoàn  3.txt   25   \n",
       "\n",
       "     centroid_score  pos_score  ovl_score  sum_score  \n",
       "128        0.527400   1.000000   1.000000   2.527400  \n",
       "43         0.432490   1.000000   1.000000   2.432490  \n",
       "117        0.335637   1.000000   1.000000   2.335637  \n",
       "148        0.237357   1.000000   1.000000   2.237357  \n",
       "0          0.210577   1.000000   1.000000   2.210577  \n",
       "..              ...        ...        ...        ...  \n",
       "41         0.046957   0.099265   0.000000   0.146222  \n",
       "199        0.055542   0.032895   0.034114   0.122551  \n",
       "114        0.060413   0.041667   0.000000   0.102079  \n",
       "42         0.000000   0.039216   0.000000   0.039216  \n",
       "67         0.000000   0.020000   0.000000   0.020000  \n",
       "\n",
       "[200 rows x 8 columns]"
      ],
      "text/html": "<div>\n<style scoped>\n    .dataframe tbody tr th:only-of-type {\n        vertical-align: middle;\n    }\n\n    .dataframe tbody tr th {\n        vertical-align: top;\n    }\n\n    .dataframe thead th {\n        text-align: right;\n    }\n</style>\n<table border=\"1\" class=\"dataframe\">\n  <thead>\n    <tr style=\"text-align: right;\">\n      <th></th>\n      <th>raw</th>\n      <th>processed</th>\n      <th>doc</th>\n      <th>pos</th>\n      <th>centroid_score</th>\n      <th>pos_score</th>\n      <th>ovl_score</th>\n      <th>sum_score</th>\n    </tr>\n  </thead>\n  <tbody>\n    <tr>\n      <th>128</th>\n      <td>Pascal Hess, người Pháp là một trong số 66 ngư...</td>\n      <td>pascal_hess người pháp một trong số 66 người t...</td>\n      <td>5.txt</td>\n      <td>1</td>\n      <td>0.527400</td>\n      <td>1.000000</td>\n      <td>1.000000</td>\n      <td>2.527400</td>\n    </tr>\n    <tr>\n      <th>43</th>\n      <td>Tổng thư ký Tổ chức Hiệp ước Bắc Đại Tây Dương...</td>\n      <td>tổng_thư_ký tổ_chức hiệp_ước bắc_đại_tây_dương...</td>\n      <td>3.txt</td>\n      <td>1</td>\n      <td>0.432490</td>\n      <td>1.000000</td>\n      <td>1.000000</td>\n      <td>2.432490</td>\n    </tr>\n    <tr>\n      <th>117</th>\n      <td>Samar Ezz Eldin là một trong những người có mặ...</td>\n      <td>samar ezz eldin một trong người có_mặt chuyến ...</td>\n      <td>7.txt</td>\n      <td>1</td>\n      <td>0.335637</td>\n      <td>1.000000</td>\n      <td>1.000000</td>\n      <td>2.335637</td>\n    </tr>\n    <tr>\n      <th>148</th>\n      <td>Chiếc Airbus A320-232 số hiệu MS804 của hãng h...</td>\n      <td>airbus a320 232 số_hiệu ms804 hãng hàng egypta...</td>\n      <td>8.txt</td>\n      <td>1</td>\n      <td>0.237357</td>\n      <td>1.000000</td>\n      <td>1.000000</td>\n      <td>2.237357</td>\n    </tr>\n    <tr>\n      <th>0</th>\n      <td>Hãng tin RIA Novosti của Nga dẫn nguồn tin từ ...</td>\n      <td>hãng tin ria novosti nga dẫn nguồn tin trang a...</td>\n      <td>4.txt</td>\n      <td>1</td>\n      <td>0.210577</td>\n      <td>1.000000</td>\n      <td>1.000000</td>\n      <td>2.210577</td>\n    </tr>\n    <tr>\n      <th>...</th>\n      <td>...</td>\n      <td>...</td>\n      <td>...</td>\n      <td>...</td>\n      <td>...</td>\n      <td>...</td>\n      <td>...</td>\n      <td>...</td>\n    </tr>\n    <tr>\n      <th>41</th>\n      <td>Các tay súng thuộc phong trào Hezbollah của Li...</td>\n      <td>tay súng thuộc phong_trào hezbollah liban đóng...</td>\n      <td>2.txt</td>\n      <td>16</td>\n      <td>0.046957</td>\n      <td>0.099265</td>\n      <td>0.000000</td>\n      <td>0.146222</td>\n    </tr>\n    <tr>\n      <th>199</th>\n      <td>Người này định chụp một số ảnh về thân nhân hà...</td>\n      <td>người định chụp một_số ảnh về thân_nhân hành_k...</td>\n      <td>9.txt</td>\n      <td>19</td>\n      <td>0.055542</td>\n      <td>0.032895</td>\n      <td>0.034114</td>\n      <td>0.122551</td>\n    </tr>\n    <tr>\n      <th>114</th>\n      <td>Khủng bố lại là nguyên nhân đầu tiên các nhà đ...</td>\n      <td>khủng_bố nguyên_nhân đầu_tiên nhà điều_tra ngh...</td>\n      <td>1.txt</td>\n      <td>47</td>\n      <td>0.060413</td>\n      <td>0.041667</td>\n      <td>0.000000</td>\n      <td>0.102079</td>\n    </tr>\n    <tr>\n      <th>42</th>\n      <td>Hiện các binh lính của chính phủ Syria đang ti...</td>\n      <td>hiện binh_lính chính_phủ syria tiếp_tục đẩy_mạ...</td>\n      <td>2.txt</td>\n      <td>17</td>\n      <td>0.000000</td>\n      <td>0.039216</td>\n      <td>0.000000</td>\n      <td>0.039216</td>\n    </tr>\n    <tr>\n      <th>67</th>\n      <td>Ngoài ra, còn có 10 thành viên phi hành đoàn./.</td>\n      <td>ngoài_ra còn 10 thành_viên phi_hành_đoàn</td>\n      <td>3.txt</td>\n      <td>25</td>\n      <td>0.000000</td>\n      <td>0.020000</td>\n      <td>0.000000</td>\n      <td>0.020000</td>\n    </tr>\n  </tbody>\n</table>\n<p>200 rows × 8 columns</p>\n</div>"
     },
     "metadata": {},
     "execution_count": 8
    }
   ],
   "source": [
    "df.sort_values(['sum_score'], ascending=False)"
   ]
  }
 ],
 "metadata": {
  "kernelspec": {
   "display_name": "Python 3",
   "language": "python",
   "name": "python3"
  },
  "language_info": {
   "codemirror_mode": {
    "name": "ipython",
    "version": 3
   },
   "file_extension": ".py",
   "mimetype": "text/x-python",
   "name": "python",
   "nbconvert_exporter": "python",
   "pygments_lexer": "ipython3",
   "version": "3.7.9-final"
  }
 },
 "nbformat": 4,
 "nbformat_minor": 4
}