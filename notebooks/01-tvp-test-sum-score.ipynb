{
 "cells": [
  {
   "cell_type": "code",
   "execution_count": 1,
   "metadata": {},
   "outputs": [
    {
     "name": "stdout",
     "output_type": "stream",
     "text": [
      "Processing /mnt/HQ/uni/text-mining/proj\n",
      "Building wheels for collected packages: multidoc-dev\n",
      "  Building wheel for multidoc-dev (setup.py) ... \u001b[?25ldone\n",
      "\u001b[?25h  Created wheel for multidoc-dev: filename=multidoc_dev-0.0.0-py3-none-any.whl size=7374 sha256=d39052e5508723d3c8fcd9a7f40978a3cd23d2e56865a471801fa7e8903d2823\n",
      "  Stored in directory: /tmp/pip-ephem-wheel-cache-29qe7nl5/wheels/5b/5c/af/cdb4e45c07089112acb0b66661de457b84391376acd0332c24\n",
      "Successfully built multidoc-dev\n",
      "Installing collected packages: multidoc-dev\n",
      "  Attempting uninstall: multidoc-dev\n",
      "    Found existing installation: multidoc-dev 0.0.0\n",
      "    Uninstalling multidoc-dev-0.0.0:\n",
      "      Successfully uninstalled multidoc-dev-0.0.0\n",
      "Successfully installed multidoc-dev-0.0.0\n"
     ]
    }
   ],
   "source": [
    "!pip install .."
   ]
  },
  {
   "cell_type": "code",
   "execution_count": 2,
   "metadata": {},
   "outputs": [],
   "source": [
    "from src.data.data_io import DataIO\n",
    "from src.features.utils import Utils\n",
    "from src.features.scoring import Scorer"
   ]
  },
  {
   "cell_type": "code",
   "execution_count": 3,
   "metadata": {},
   "outputs": [],
   "source": [
    "data = DataIO.load('../data/raw/ViMs/original/Cluster_001/original')"
   ]
  },
  {
   "cell_type": "code",
   "execution_count": 4,
   "metadata": {},
   "outputs": [],
   "source": [
    "processed_data, data = Utils.preprocess(data, \n",
    "                                        stop_words_path='../data/external/stopwords.txt', \n",
    "                                        punc_path='../data/external/punctuation.txt')"
   ]
  },
  {
   "cell_type": "code",
   "execution_count": 5,
   "metadata": {},
   "outputs": [],
   "source": [
    "import numpy as np\n",
    "\n",
    "\n",
    "def cosine_sim(x, y):\n",
    "    s = np.sum(x * y)\n",
    "    mag_x = np.sqrt(np.sum(x ** 2))\n",
    "    mag_y = np.sqrt(np.sum(y ** 2))\n",
    "    \n",
    "    return s / (mag_x * mag_y)"
   ]
  },
  {
   "cell_type": "code",
   "execution_count": 6,
   "metadata": {},
   "outputs": [
    {
     "name": "stderr",
     "output_type": "stream",
     "text": [
      "/home/miu/miniconda3/envs/text-mining/lib/python3.7/site-packages/pandas/core/indexing.py:670: SettingWithCopyWarning: \n",
      "A value is trying to be set on a copy of a slice from a DataFrame\n",
      "\n",
      "See the caveats in the documentation: https://pandas.pydata.org/pandas-docs/stable/user_guide/indexing.html#returning-a-view-versus-a-copy\n",
      "  iloc._setitem_with_indexer(indexer, value)\n"
     ]
    },
    {
     "name": "stdout",
     "output_type": "stream",
     "text": [
      "CPU times: user 47.1 s, sys: 142 ms, total: 47.2 s\n",
      "Wall time: 47.1 s\n"
     ]
    }
   ],
   "source": [
    "%%time\n",
    "df = Scorer.scoring_sentences(data, processed_data, wc=1.0, wp=1.0, wf=50.0, func=cosine_sim)"
   ]
  },
  {
   "cell_type": "code",
   "execution_count": 7,
   "metadata": {},
   "outputs": [
    {
     "data": {
      "text/plain": [
       "['Pascal Hess, người Pháp là một trong số 66 người, trong đó có 15 công dân Pháp, được cho là đã chết khi chuyến bay MS804 của Hãng hàng không Ai Cập biến mất trên đường đến Cairo hôm 19-5.',\n",
       " 'Trước đó, hãng hàng không quốc gia Ai Cập đã công bố quốc tịch của những hành khách đi trên chuyến bay MS 804 bị mất tích, bao gồm 56 hành khách, trong đó có 30 người Ai Cập, 15 người Pháp, 2 người I-rắc, 1 người Anh, 1 người Bỉ, 1 người Kuwait, 1 người Saudi Arabia, 1 người Sudan, 1 người Cộng hòa Chad, 1 người Bồ Đào Nha, 1 người Angeria và 1 người Canada.',\n",
       " 'Tổng thư ký Tổ chức Hiệp ước Bắc Đại Tây Dương (NATO) Jens Stoltenberg ngày 19/5 cho biết, nếu Ai Cập đề nghị, liên minh này sẽ hỗ trợ công tác tìm kiếm chiếc máy bay mang số hiệu MS 804 của hãng hàng không Ai Cập chở 66 người mất tích trước đó cùng ngày.',\n",
       " 'Ông Ahmed Helal, Giám đốc Công ty Procter và Gamble ở thành phố Amien, Pháp, và một gia đình người Pháp gồm 2 trẻ nhỏ, một người ông 74 tuổi tên là Pierre Heslouin đến từ Nogent-sur-Marne cũng được cho là thiệt mạng trong vụ máy bay mất tích bí ẩn này.',\n",
       " 'Theo các nguồn tin, hải mảnh nhựa vỡ được tìm thấy có màu trắng và đỏ.',\n",
       " 'Bộ trưởng Quốc phòng Hy Lạp Panos Kammenos, máy bay đã \"quay 90 độ sang trái và 360 độ sang phải, hạ độ cao từ 37.000 feet xuống 15.000 feet và mất tín hiệu ở độ cao 10.000 feet\" (khoảng 11 km).',\n",
       " 'Tuy nhiên, các quan chức này lưu ý đây chỉ là phỏng đoán dựa trên hoàn cảnh thực tế chứ không phải dựa trên những bằng chứng xác thực.',\n",
       " 'Trong khi đó, phát biểu trong một cuộc họp báo tại thủ đô Cairo, Bộ trưởng Hàng không dân sự Ai Cập Sherif Fathi cho biết khả năng khủng bố tấn công khiến máy bay của hãng EgyptAir gặp nạn “lớn hơn nhiều” so với khả năng máy bay bị trục trặc kỹ thuật.',\n",
       " 'Hiện chưa có bình luận từ nhà chức trách liên quan diễn biến này.',\n",
       " '“Nhiều sân bay tại các nước đang phát triển không trang bị công nghệ quét hiện đại cũng như không triển khai các khóa đào tạo nghiêm ngặt đối với các nhà khai thác” – báo cáo của TCS nêu rõ.']"
      ]
     },
     "execution_count": 7,
     "metadata": {},
     "output_type": "execute_result"
    }
   ],
   "source": [
    "df.sort_values(['sum_score'], ascending=False).head(10).raw.to_list()"
   ]
  }
 ],
 "metadata": {
  "kernelspec": {
   "display_name": "Python 3",
   "language": "python",
   "name": "python3"
  },
  "language_info": {
   "codemirror_mode": {
    "name": "ipython",
    "version": 3
   },
   "file_extension": ".py",
   "mimetype": "text/x-python",
   "name": "python",
   "nbconvert_exporter": "python",
   "pygments_lexer": "ipython3",
   "version": "3.7.9"
  }
 },
 "nbformat": 4,
 "nbformat_minor": 4
}
