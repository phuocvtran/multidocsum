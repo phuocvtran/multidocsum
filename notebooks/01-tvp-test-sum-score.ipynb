{
 "cells": [
  {
   "cell_type": "code",
   "execution_count": 1,
   "metadata": {},
   "outputs": [
    {
     "name": "stdout",
     "output_type": "stream",
     "text": [
      "Processing /mnt/HQ/uni/text-mining/proj\n",
      "Building wheels for collected packages: multidoc-dev\n",
      "  Building wheel for multidoc-dev (setup.py) ... \u001b[?25ldone\n",
      "\u001b[?25h  Created wheel for multidoc-dev: filename=multidoc_dev-0.0.0-py3-none-any.whl size=6968 sha256=1df61b0399c6aa43dc39f1ff61d28efa357df30a064981676bc5f15d09a6bb2f\n",
      "  Stored in directory: /tmp/pip-ephem-wheel-cache-tkdvn7i_/wheels/5b/5c/af/cdb4e45c07089112acb0b66661de457b84391376acd0332c24\n",
      "Successfully built multidoc-dev\n",
      "Installing collected packages: multidoc-dev\n",
      "  Attempting uninstall: multidoc-dev\n",
      "    Found existing installation: multidoc-dev 0.0.0\n",
      "    Uninstalling multidoc-dev-0.0.0:\n",
      "      Successfully uninstalled multidoc-dev-0.0.0\n",
      "Successfully installed multidoc-dev-0.0.0\n"
     ]
    }
   ],
   "source": [
    "!pip install .."
   ]
  },
  {
   "cell_type": "code",
   "execution_count": 2,
   "metadata": {},
   "outputs": [],
   "source": [
    "from src.data.data_io import DataIO\n",
    "from src.features.utils import Utils\n",
    "from src.features.scoring import Scorer"
   ]
  },
  {
   "cell_type": "code",
   "execution_count": 3,
   "metadata": {},
   "outputs": [],
   "source": [
    "data = DataIO.load('../data/raw/ViMs/original/Cluster_001/original')"
   ]
  },
  {
   "cell_type": "code",
   "execution_count": 4,
   "metadata": {},
   "outputs": [],
   "source": [
    "processed_data, data = Utils.preprocess(data, \n",
    "                                        stop_words_path='../data/external/stopwords.txt', \n",
    "                                        punc_path='../data/external/punctuation.txt')"
   ]
  },
  {
   "cell_type": "code",
   "execution_count": 5,
   "metadata": {},
   "outputs": [],
   "source": [
    "df = Scorer.scoring_sentences(data, processed_data)"
   ]
  },
  {
   "cell_type": "code",
   "execution_count": 14,
   "metadata": {},
   "outputs": [
    {
     "data": {
      "text/plain": [
       "['Trước đó, hãng hàng không quốc gia Ai Cập đã công bố quốc tịch của những hành khách đi trên chuyến bay MS 804 bị mất tích, bao gồm 56 hành khách, trong đó có 30 người Ai Cập, 15 người Pháp, 2 người I-rắc, 1 người Anh, 1 người Bỉ, 1 người Kuwait, 1 người Saudi Arabia, 1 người Sudan, 1 người Cộng hòa Chad, 1 người Bồ Đào Nha, 1 người Angeria và 1 người Canada.',\n",
       " 'Pascal Hess, người Pháp là một trong số 66 người, trong đó có 15 công dân Pháp, được cho là đã chết khi chuyến bay MS804 của Hãng hàng không Ai Cập biến mất trên đường đến Cairo hôm 19-5.',\n",
       " 'Trong khi đó, phát biểu trong một cuộc họp báo tại thủ đô Cairo, Bộ trưởng Hàng không dân sự Ai Cập Sherif Fathi cho biết khả năng khủng bố tấn công khiến máy bay của hãng EgyptAir gặp nạn “lớn hơn nhiều” so với khả năng máy bay bị trục trặc kỹ thuật.',\n",
       " 'Tổng thư ký Tổ chức Hiệp ước Bắc Đại Tây Dương (NATO) Jens Stoltenberg ngày 19/5 cho biết, nếu Ai Cập đề nghị, liên minh này sẽ hỗ trợ công tác tìm kiếm chiếc máy bay mang số hiệu MS 804 của hãng hàng không Ai Cập chở 66 người mất tích trước đó cùng ngày.',\n",
       " 'Ông Ahmed Helal, Giám đốc Công ty Procter và Gamble ở thành phố Amien, Pháp, và một gia đình người Pháp gồm 2 trẻ nhỏ, một người ông 74 tuổi tên là Pierre Heslouin đến từ Nogent-sur-Marne cũng được cho là thiệt mạng trong vụ máy bay mất tích bí ẩn này.',\n",
       " 'Samar Ezz Eldin là một trong những người có mặt trên chuyến bay số hiệu MS804 của EgyptAir - mất tích ngày 19-5 ngay sau khi đang thực hiện chuyến bay từ Paris tới Cairo.',\n",
       " 'Tổng thống Pháp Francois Hollande cho biết: “Không loại trừ hoặc ủng hộ bất kỳ một giả thuyết nào, cho dù là một tai nạn hay một khả năng khác mà mọi người nghĩ tới (ví dụ như một vụ khủng bố), thì ở giai đoạn này chúng ta cần tập trung tinh thần đoàn kết với gia đình các nạn nhân và tiến hành điều tra nguyên nhân thảm họa”.',\n",
       " '“Đây vẫn có thể là một vụ tấn công bằng tên lửa đất đối không mặc dù các phiến quân ở Ai Cập và các khu vực xung quanh khó có khả năng tấn công máy bay ở tọa độ đó”.',\n",
       " 'Thủ tướng Italy Matteo Renzi ngày 19/5 cũng đã gửi lời chia buồn, đồng thời bày tỏ sự đoàn kết với Ai Cập sau vụ máy bay của hãng hàng không Ai Cập mất tích trên Địa Trung Hải khi đang trên đường bay từ Paris đến Cairo.',\n",
       " 'Máy bay mang số hiệu MS804 của EgyptAir gặp nạn sáng nay 19/5 khi đang trên đường từ Paris đến Cairo của Ai Cập, mang theo 66 người trong đó chủ yếu là công dân Ai Cập.']"
      ]
     },
     "execution_count": 14,
     "metadata": {},
     "output_type": "execute_result"
    }
   ],
   "source": [
    "df.sort_values(['sum_score'], ascending=False).head(10).raw.to_list()"
   ]
  }
 ],
 "metadata": {
  "kernelspec": {
   "display_name": "Python 3",
   "language": "python",
   "name": "python3"
  },
  "language_info": {
   "codemirror_mode": {
    "name": "ipython",
    "version": 3
   },
   "file_extension": ".py",
   "mimetype": "text/x-python",
   "name": "python",
   "nbconvert_exporter": "python",
   "pygments_lexer": "ipython3",
   "version": "3.7.9"
  }
 },
 "nbformat": 4,
 "nbformat_minor": 4
}
