{
 "cells": [
  {
   "cell_type": "code",
   "execution_count": 1,
   "metadata": {},
   "outputs": [
    {
     "output_type": "stream",
     "name": "stdout",
     "text": [
      "Processing /mnt/HQ/uni/text-mining/multidocsum\n",
      "Requirement already satisfied: nltk==3.5 in /home/miu/miniconda3/envs/text-mining/lib/python3.7/site-packages (from multidocsum==0.0.1) (3.5)\n",
      "Requirement already satisfied: numpy==1.19.4 in /home/miu/miniconda3/envs/text-mining/lib/python3.7/site-packages (from multidocsum==0.0.1) (1.19.4)\n",
      "Requirement already satisfied: regex==2020.11.13 in /home/miu/miniconda3/envs/text-mining/lib/python3.7/site-packages (from multidocsum==0.0.1) (2020.11.13)\n",
      "Requirement already satisfied: scikit-learn==0.21.3 in /home/miu/miniconda3/envs/text-mining/lib/python3.7/site-packages (from multidocsum==0.0.1) (0.21.3)\n",
      "Requirement already satisfied: scipy==1.5.4 in /home/miu/miniconda3/envs/text-mining/lib/python3.7/site-packages (from multidocsum==0.0.1) (1.5.4)\n",
      "Requirement already satisfied: underthesea==1.2.2 in /home/miu/miniconda3/envs/text-mining/lib/python3.7/site-packages (from multidocsum==0.0.1) (1.2.2)\n",
      "Requirement already satisfied: pyvi==0.1 in /home/miu/miniconda3/envs/text-mining/lib/python3.7/site-packages (from multidocsum==0.0.1) (0.1)\n",
      "Requirement already satisfied: pandas==1.1.4 in /home/miu/miniconda3/envs/text-mining/lib/python3.7/site-packages (from multidocsum==0.0.1) (1.1.4)\n",
      "Requirement already satisfied: click in /home/miu/miniconda3/envs/text-mining/lib/python3.7/site-packages (from nltk==3.5->multidocsum==0.0.1) (7.1.2)\n",
      "Requirement already satisfied: tqdm in /home/miu/miniconda3/envs/text-mining/lib/python3.7/site-packages (from nltk==3.5->multidocsum==0.0.1) (4.51.0)\n",
      "Requirement already satisfied: joblib in /home/miu/miniconda3/envs/text-mining/lib/python3.7/site-packages (from nltk==3.5->multidocsum==0.0.1) (0.17.0)\n",
      "Requirement already satisfied: requests in /home/miu/miniconda3/envs/text-mining/lib/python3.7/site-packages (from underthesea==1.2.2->multidocsum==0.0.1) (2.25.0)\n",
      "Requirement already satisfied: unidecode in /home/miu/miniconda3/envs/text-mining/lib/python3.7/site-packages (from underthesea==1.2.2->multidocsum==0.0.1) (1.1.1)\n",
      "Requirement already satisfied: tabulate in /home/miu/miniconda3/envs/text-mining/lib/python3.7/site-packages (from underthesea==1.2.2->multidocsum==0.0.1) (0.8.7)\n",
      "Requirement already satisfied: python-crfsuite>=0.9.6 in /home/miu/miniconda3/envs/text-mining/lib/python3.7/site-packages (from underthesea==1.2.2->multidocsum==0.0.1) (0.9.7)\n",
      "Requirement already satisfied: sklearn-crfsuite in /home/miu/miniconda3/envs/text-mining/lib/python3.7/site-packages (from pyvi==0.1->multidocsum==0.0.1) (0.3.6)\n",
      "Requirement already satisfied: pytz>=2017.2 in /home/miu/miniconda3/envs/text-mining/lib/python3.7/site-packages (from pandas==1.1.4->multidocsum==0.0.1) (2020.4)\n",
      "Requirement already satisfied: python-dateutil>=2.7.3 in /home/miu/miniconda3/envs/text-mining/lib/python3.7/site-packages (from pandas==1.1.4->multidocsum==0.0.1) (2.8.1)\n",
      "Requirement already satisfied: certifi>=2017.4.17 in /home/miu/miniconda3/envs/text-mining/lib/python3.7/site-packages (from requests->underthesea==1.2.2->multidocsum==0.0.1) (2020.6.20)\n",
      "Requirement already satisfied: urllib3<1.27,>=1.21.1 in /home/miu/miniconda3/envs/text-mining/lib/python3.7/site-packages (from requests->underthesea==1.2.2->multidocsum==0.0.1) (1.26.2)\n",
      "Requirement already satisfied: idna<3,>=2.5 in /home/miu/miniconda3/envs/text-mining/lib/python3.7/site-packages (from requests->underthesea==1.2.2->multidocsum==0.0.1) (2.10)\n",
      "Requirement already satisfied: chardet<4,>=3.0.2 in /home/miu/miniconda3/envs/text-mining/lib/python3.7/site-packages (from requests->underthesea==1.2.2->multidocsum==0.0.1) (3.0.4)\n",
      "Requirement already satisfied: six in /home/miu/miniconda3/envs/text-mining/lib/python3.7/site-packages (from sklearn-crfsuite->pyvi==0.1->multidocsum==0.0.1) (1.15.0)\n",
      "Building wheels for collected packages: multidocsum\n",
      "  Building wheel for multidocsum (setup.py) ... \u001b[?25ldone\n",
      "\u001b[?25h  Created wheel for multidocsum: filename=multidocsum-0.0.1-py3-none-any.whl size=8687 sha256=b0783c7f8f1eef6749d2dd00506f1d366fe0282bb60228e47ea7e72142ccb28f\n",
      "  Stored in directory: /tmp/pip-ephem-wheel-cache-505x4fxh/wheels/02/74/95/c7b282f469bd75d8476184f75ec79b255b390a90201a66b918\n",
      "Successfully built multidocsum\n",
      "Installing collected packages: multidocsum\n",
      "  Attempting uninstall: multidocsum\n",
      "    Found existing installation: multidocsum 0.0.1\n",
      "    Uninstalling multidocsum-0.0.1:\n",
      "      Successfully uninstalled multidocsum-0.0.1\n",
      "Successfully installed multidocsum-0.0.1\n"
     ]
    }
   ],
   "source": [
    "!pip install .."
   ]
  },
  {
   "cell_type": "code",
   "execution_count": 2,
   "metadata": {},
   "outputs": [],
   "source": [
    "from src.data.data_io import DataIO\n",
    "from src.features.utils import Utils\n",
    "from src.features.scoring import Scorer"
   ]
  },
  {
   "cell_type": "code",
   "execution_count": 3,
   "metadata": {},
   "outputs": [],
   "source": [
    "data = DataIO.load('../data/interim/extract_content/Cluster_001')"
   ]
  },
  {
   "cell_type": "code",
   "execution_count": 4,
   "metadata": {},
   "outputs": [],
   "source": [
    "processed_data, data = Utils.preprocess(data, \n",
    "                                        stop_words_path='../data/external/stopwords.txt', \n",
    "                                        punc_path='../data/external/punctuation.txt')"
   ]
  },
  {
   "cell_type": "code",
   "execution_count": 5,
   "metadata": {},
   "outputs": [
    {
     "output_type": "stream",
     "name": "stdout",
     "text": [
      "CPU times: user 217 ms, sys: 4.64 ms, total: 221 ms\nWall time: 221 ms\n"
     ]
    }
   ],
   "source": [
    "%%time\n",
    "df = Scorer.scoring_sentences(data, processed_data, wc=5.0, wp=0.8, wf=1.0)"
   ]
  },
  {
   "cell_type": "code",
   "execution_count": 6,
   "metadata": {},
   "outputs": [
    {
     "output_type": "execute_result",
     "data": {
      "text/plain": [
       "                                                   raw  \\\n",
       "66   Trước đó, hãng hàng không quốc gia Ai Cập đã c...   \n",
       "128  Pascal Hess, người Pháp là một trong số 66 ngư...   \n",
       "43   Tổng thư ký Tổ chức Hiệp ước Bắc Đại Tây Dương...   \n",
       "117  Samar Ezz Eldin là một trong những người có mặ...   \n",
       "133  Ông Ahmed Helal, Giám đốc Công ty Procter và G...   \n",
       "..                                                 ...   \n",
       "105      Họ đều là những phi công dày dặn kinh nghiệm.   \n",
       "107  Tuy nhiên, nếu có trục trặc, phi hành đoàn có ...   \n",
       "40   Việc chiếm được thị trấn này có thể mở đường đ...   \n",
       "42   Hiện các binh lính của chính phủ Syria đang ti...   \n",
       "67     Ngoài ra, còn có 10 thành viên phi hành đoàn./.   \n",
       "\n",
       "                                             processed    doc  pos  \\\n",
       "66   hãng hàng quốc_gia ai cập công_bố quốc_tịch hà...  3.txt   24   \n",
       "128  pascal_hess người pháp một trong số 66 người t...  5.txt    1   \n",
       "43   tổng_thư_ký tổ_chức hiệp_ước bắc_đại_tây_dương...  3.txt    1   \n",
       "117  samar ezz eldin một trong người có_mặt chuyến ...  7.txt    1   \n",
       "133  ông ahmed_helal giám_đốc công_ty procter gambl...  5.txt    6   \n",
       "..                                                 ...    ...  ...   \n",
       "105                    họ phi_công dày_dặn kinh_nghiệm  1.txt   38   \n",
       "107  tuy_nhiên trục_trặc phi_hành_đoàn gặp khó_khăn...  1.txt   40   \n",
       "40   chiếm thị_trấn mở_đường quân_đội chính_phủ già...  2.txt   15   \n",
       "42   hiện binh_lính chính_phủ syria tiếp_tục đẩy_mạ...  2.txt   17   \n",
       "67            ngoài_ra còn 10 thành_viên phi_hành_đoàn  3.txt   25   \n",
       "\n",
       "     centroid_score  pos_score  ovl_score  sum_score  \n",
       "66         1.000000   0.060833   0.231192   5.279859  \n",
       "128        0.527400   1.000000   1.000000   4.437001  \n",
       "43         0.432490   1.000000   1.000000   3.962452  \n",
       "117        0.335637   1.000000   1.000000   3.478184  \n",
       "133        0.525616   0.744792   0.180760   3.404674  \n",
       "..              ...        ...        ...        ...  \n",
       "105        0.000000   0.229167   0.000000   0.183333  \n",
       "107        0.000000   0.187500   0.000000   0.150000  \n",
       "40         0.000000   0.159314   0.000000   0.127451  \n",
       "42         0.000000   0.039216   0.000000   0.031373  \n",
       "67         0.000000   0.020000   0.000000   0.016000  \n",
       "\n",
       "[200 rows x 8 columns]"
      ],
      "text/html": "<div>\n<style scoped>\n    .dataframe tbody tr th:only-of-type {\n        vertical-align: middle;\n    }\n\n    .dataframe tbody tr th {\n        vertical-align: top;\n    }\n\n    .dataframe thead th {\n        text-align: right;\n    }\n</style>\n<table border=\"1\" class=\"dataframe\">\n  <thead>\n    <tr style=\"text-align: right;\">\n      <th></th>\n      <th>raw</th>\n      <th>processed</th>\n      <th>doc</th>\n      <th>pos</th>\n      <th>centroid_score</th>\n      <th>pos_score</th>\n      <th>ovl_score</th>\n      <th>sum_score</th>\n    </tr>\n  </thead>\n  <tbody>\n    <tr>\n      <th>66</th>\n      <td>Trước đó, hãng hàng không quốc gia Ai Cập đã c...</td>\n      <td>hãng hàng quốc_gia ai cập công_bố quốc_tịch hà...</td>\n      <td>3.txt</td>\n      <td>24</td>\n      <td>1.000000</td>\n      <td>0.060833</td>\n      <td>0.231192</td>\n      <td>5.279859</td>\n    </tr>\n    <tr>\n      <th>128</th>\n      <td>Pascal Hess, người Pháp là một trong số 66 ngư...</td>\n      <td>pascal_hess người pháp một trong số 66 người t...</td>\n      <td>5.txt</td>\n      <td>1</td>\n      <td>0.527400</td>\n      <td>1.000000</td>\n      <td>1.000000</td>\n      <td>4.437001</td>\n    </tr>\n    <tr>\n      <th>43</th>\n      <td>Tổng thư ký Tổ chức Hiệp ước Bắc Đại Tây Dương...</td>\n      <td>tổng_thư_ký tổ_chức hiệp_ước bắc_đại_tây_dương...</td>\n      <td>3.txt</td>\n      <td>1</td>\n      <td>0.432490</td>\n      <td>1.000000</td>\n      <td>1.000000</td>\n      <td>3.962452</td>\n    </tr>\n    <tr>\n      <th>117</th>\n      <td>Samar Ezz Eldin là một trong những người có mặ...</td>\n      <td>samar ezz eldin một trong người có_mặt chuyến ...</td>\n      <td>7.txt</td>\n      <td>1</td>\n      <td>0.335637</td>\n      <td>1.000000</td>\n      <td>1.000000</td>\n      <td>3.478184</td>\n    </tr>\n    <tr>\n      <th>133</th>\n      <td>Ông Ahmed Helal, Giám đốc Công ty Procter và G...</td>\n      <td>ông ahmed_helal giám_đốc công_ty procter gambl...</td>\n      <td>5.txt</td>\n      <td>6</td>\n      <td>0.525616</td>\n      <td>0.744792</td>\n      <td>0.180760</td>\n      <td>3.404674</td>\n    </tr>\n    <tr>\n      <th>...</th>\n      <td>...</td>\n      <td>...</td>\n      <td>...</td>\n      <td>...</td>\n      <td>...</td>\n      <td>...</td>\n      <td>...</td>\n      <td>...</td>\n    </tr>\n    <tr>\n      <th>105</th>\n      <td>Họ đều là những phi công dày dặn kinh nghiệm.</td>\n      <td>họ phi_công dày_dặn kinh_nghiệm</td>\n      <td>1.txt</td>\n      <td>38</td>\n      <td>0.000000</td>\n      <td>0.229167</td>\n      <td>0.000000</td>\n      <td>0.183333</td>\n    </tr>\n    <tr>\n      <th>107</th>\n      <td>Tuy nhiên, nếu có trục trặc, phi hành đoàn có ...</td>\n      <td>tuy_nhiên trục_trặc phi_hành_đoàn gặp khó_khăn...</td>\n      <td>1.txt</td>\n      <td>40</td>\n      <td>0.000000</td>\n      <td>0.187500</td>\n      <td>0.000000</td>\n      <td>0.150000</td>\n    </tr>\n    <tr>\n      <th>40</th>\n      <td>Việc chiếm được thị trấn này có thể mở đường đ...</td>\n      <td>chiếm thị_trấn mở_đường quân_đội chính_phủ già...</td>\n      <td>2.txt</td>\n      <td>15</td>\n      <td>0.000000</td>\n      <td>0.159314</td>\n      <td>0.000000</td>\n      <td>0.127451</td>\n    </tr>\n    <tr>\n      <th>42</th>\n      <td>Hiện các binh lính của chính phủ Syria đang ti...</td>\n      <td>hiện binh_lính chính_phủ syria tiếp_tục đẩy_mạ...</td>\n      <td>2.txt</td>\n      <td>17</td>\n      <td>0.000000</td>\n      <td>0.039216</td>\n      <td>0.000000</td>\n      <td>0.031373</td>\n    </tr>\n    <tr>\n      <th>67</th>\n      <td>Ngoài ra, còn có 10 thành viên phi hành đoàn./.</td>\n      <td>ngoài_ra còn 10 thành_viên phi_hành_đoàn</td>\n      <td>3.txt</td>\n      <td>25</td>\n      <td>0.000000</td>\n      <td>0.020000</td>\n      <td>0.000000</td>\n      <td>0.016000</td>\n    </tr>\n  </tbody>\n</table>\n<p>200 rows × 8 columns</p>\n</div>"
     },
     "metadata": {},
     "execution_count": 6
    }
   ],
   "source": [
    "df.sort_values(['sum_score'], ascending=False)"
   ]
  }
 ],
 "metadata": {
  "kernelspec": {
   "display_name": "Python 3",
   "language": "python",
   "name": "python3"
  },
  "language_info": {
   "codemirror_mode": {
    "name": "ipython",
    "version": 3
   },
   "file_extension": ".py",
   "mimetype": "text/x-python",
   "name": "python",
   "nbconvert_exporter": "python",
   "pygments_lexer": "ipython3",
   "version": "3.7.9-final"
  }
 },
 "nbformat": 4,
 "nbformat_minor": 4
}