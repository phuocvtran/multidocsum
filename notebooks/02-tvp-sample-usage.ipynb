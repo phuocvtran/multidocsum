{
 "cells": [
  {
   "cell_type": "code",
   "execution_count": 1,
   "metadata": {},
   "outputs": [
    {
     "output_type": "stream",
     "name": "stdout",
     "text": [
      "Processing /mnt/HQ/uni/text-mining/multidocsum\n",
      "Requirement already satisfied: nltk==3.5 in /home/miu/miniconda3/envs/text-mining/lib/python3.7/site-packages (from multidocsum==0.0.1) (3.5)\n",
      "Requirement already satisfied: numpy==1.19.4 in /home/miu/miniconda3/envs/text-mining/lib/python3.7/site-packages (from multidocsum==0.0.1) (1.19.4)\n",
      "Requirement already satisfied: regex==2020.11.13 in /home/miu/miniconda3/envs/text-mining/lib/python3.7/site-packages (from multidocsum==0.0.1) (2020.11.13)\n",
      "Requirement already satisfied: scikit-learn==0.21.3 in /home/miu/miniconda3/envs/text-mining/lib/python3.7/site-packages (from multidocsum==0.0.1) (0.21.3)\n",
      "Requirement already satisfied: scipy==1.5.4 in /home/miu/miniconda3/envs/text-mining/lib/python3.7/site-packages (from multidocsum==0.0.1) (1.5.4)\n",
      "Requirement already satisfied: underthesea==1.2.2 in /home/miu/miniconda3/envs/text-mining/lib/python3.7/site-packages (from multidocsum==0.0.1) (1.2.2)\n",
      "Requirement already satisfied: pyvi==0.1 in /home/miu/miniconda3/envs/text-mining/lib/python3.7/site-packages (from multidocsum==0.0.1) (0.1)\n",
      "Requirement already satisfied: pandas==1.1.4 in /home/miu/miniconda3/envs/text-mining/lib/python3.7/site-packages (from multidocsum==0.0.1) (1.1.4)\n",
      "Requirement already satisfied: tqdm in /home/miu/miniconda3/envs/text-mining/lib/python3.7/site-packages (from nltk==3.5->multidocsum==0.0.1) (4.51.0)\n",
      "Requirement already satisfied: joblib in /home/miu/miniconda3/envs/text-mining/lib/python3.7/site-packages (from nltk==3.5->multidocsum==0.0.1) (0.17.0)\n",
      "Requirement already satisfied: click in /home/miu/miniconda3/envs/text-mining/lib/python3.7/site-packages (from nltk==3.5->multidocsum==0.0.1) (7.1.2)\n",
      "Requirement already satisfied: tabulate in /home/miu/miniconda3/envs/text-mining/lib/python3.7/site-packages (from underthesea==1.2.2->multidocsum==0.0.1) (0.8.7)\n",
      "Requirement already satisfied: requests in /home/miu/miniconda3/envs/text-mining/lib/python3.7/site-packages (from underthesea==1.2.2->multidocsum==0.0.1) (2.25.0)\n",
      "Requirement already satisfied: unidecode in /home/miu/miniconda3/envs/text-mining/lib/python3.7/site-packages (from underthesea==1.2.2->multidocsum==0.0.1) (1.1.1)\n",
      "Requirement already satisfied: python-crfsuite>=0.9.6 in /home/miu/miniconda3/envs/text-mining/lib/python3.7/site-packages (from underthesea==1.2.2->multidocsum==0.0.1) (0.9.7)\n",
      "Requirement already satisfied: sklearn-crfsuite in /home/miu/miniconda3/envs/text-mining/lib/python3.7/site-packages (from pyvi==0.1->multidocsum==0.0.1) (0.3.6)\n",
      "Requirement already satisfied: python-dateutil>=2.7.3 in /home/miu/miniconda3/envs/text-mining/lib/python3.7/site-packages (from pandas==1.1.4->multidocsum==0.0.1) (2.8.1)\n",
      "Requirement already satisfied: pytz>=2017.2 in /home/miu/miniconda3/envs/text-mining/lib/python3.7/site-packages (from pandas==1.1.4->multidocsum==0.0.1) (2020.4)\n",
      "Requirement already satisfied: idna<3,>=2.5 in /home/miu/miniconda3/envs/text-mining/lib/python3.7/site-packages (from requests->underthesea==1.2.2->multidocsum==0.0.1) (2.10)\n",
      "Requirement already satisfied: chardet<4,>=3.0.2 in /home/miu/miniconda3/envs/text-mining/lib/python3.7/site-packages (from requests->underthesea==1.2.2->multidocsum==0.0.1) (3.0.4)\n",
      "Requirement already satisfied: urllib3<1.27,>=1.21.1 in /home/miu/miniconda3/envs/text-mining/lib/python3.7/site-packages (from requests->underthesea==1.2.2->multidocsum==0.0.1) (1.26.2)\n",
      "Requirement already satisfied: certifi>=2017.4.17 in /home/miu/miniconda3/envs/text-mining/lib/python3.7/site-packages (from requests->underthesea==1.2.2->multidocsum==0.0.1) (2020.6.20)\n",
      "Requirement already satisfied: six in /home/miu/miniconda3/envs/text-mining/lib/python3.7/site-packages (from sklearn-crfsuite->pyvi==0.1->multidocsum==0.0.1) (1.15.0)\n",
      "Building wheels for collected packages: multidocsum\n",
      "  Building wheel for multidocsum (setup.py) ... \u001b[?25ldone\n",
      "\u001b[?25h  Created wheel for multidocsum: filename=multidocsum-0.0.1-py3-none-any.whl size=8429 sha256=64db994922d79b80be9929903530365213a1b7a74dd96b0ec2f4f7cf393c1ee7\n",
      "  Stored in directory: /tmp/pip-ephem-wheel-cache-aixj_qq9/wheels/02/74/95/c7b282f469bd75d8476184f75ec79b255b390a90201a66b918\n",
      "Successfully built multidocsum\n",
      "Installing collected packages: multidocsum\n",
      "  Attempting uninstall: multidocsum\n",
      "    Found existing installation: multidocsum 0.0.1\n",
      "    Uninstalling multidocsum-0.0.1:\n",
      "      Successfully uninstalled multidocsum-0.0.1\n",
      "Successfully installed multidocsum-0.0.1\n"
     ]
    }
   ],
   "source": [
    "!pip install .."
   ]
  },
  {
   "cell_type": "code",
   "execution_count": 2,
   "metadata": {},
   "outputs": [],
   "source": [
    "from src.models.extracting import Extractor\n",
    "import numpy as np"
   ]
  },
  {
   "cell_type": "code",
   "execution_count": 3,
   "metadata": {},
   "outputs": [],
   "source": [
    "params = {\n",
    "    'data_path': '../data/interim/extract_content/Cluster_001',\n",
    "    'stop_words_path': '../data/external/stopwords.txt', \n",
    "    'punc_path': '../data/external/punctuation.txt',\n",
    "    'compression_rate': 0.05,\n",
    "    'remove_redundacy': False,\n",
    "    'wc': 1.0, \n",
    "    'wp': 1.0, \n",
    "    'wf': 1.0, \n",
    "    'n_centroid': 10, \n",
    "    'C_max': 10, \n",
    "    'ngram_range': (1, 1), \n",
    "    'max_features': 100,\n",
    "    'func': np.dot\n",
    "}"
   ]
  },
  {
   "cell_type": "code",
   "execution_count": 4,
   "metadata": {},
   "outputs": [
    {
     "output_type": "stream",
     "name": "stdout",
     "text": [
      "CPU times: user 310 ms, sys: 8.86 ms, total: 319 ms\nWall time: 321 ms\n"
     ]
    }
   ],
   "source": [
    "%%time\n",
    "summary = Extractor.extract(**params)"
   ]
  },
  {
   "cell_type": "code",
   "execution_count": 5,
   "metadata": {},
   "outputs": [
    {
     "output_type": "stream",
     "name": "stdout",
     "text": [
      "Trước đó, hãng hàng không quốc gia Ai Cập đã công bố quốc tịch của những hành khách đi trên chuyến bay MS 804 bị mất tích, bao gồm 56 hành khách, trong đó có 30 người Ai Cập, 15 người Pháp, 2 người I-rắc, 1 người Anh, 1 người Bỉ, 1 người Kuwait, 1 người Saudi Arabia, 1 người Sudan, 1 người Cộng hòa Chad, 1 người Bồ Đào Nha, 1 người Angeria và 1 người Canada.\nTrong khi đó, phát biểu trong một cuộc họp báo tại thủ đô Cairo, Bộ trưởng Hàng không dân sự Ai Cập Sherif Fathi cho biết khả năng khủng bố tấn công khiến máy bay của hãng EgyptAir gặp nạn “lớn hơn nhiều” so với khả năng máy bay bị trục trặc kỹ thuật.\nÔng Ahmed Helal, Giám đốc Công ty Procter và Gamble ở thành phố Amien, Pháp, và một gia đình người Pháp gồm 2 trẻ nhỏ, một người ông 74 tuổi tên là Pierre Heslouin đến từ Nogent-sur-Marne cũng được cho là thiệt mạng trong vụ máy bay mất tích bí ẩn này.\nPascal Hess, người Pháp là một trong số 66 người, trong đó có 15 công dân Pháp, được cho là đã chết khi chuyến bay MS804 của Hãng hàng không Ai Cập biến mất trên đường đến Cairo hôm 19-5.\nTổng thống Pháp Francois Hollande cho biết: “Không loại trừ hoặc ủng hộ bất kỳ một giả thuyết nào, cho dù là một tai nạn hay một khả năng khác mà mọi người nghĩ tới (ví dụ như một vụ khủng bố), thì ở giai đoạn này chúng ta cần tập trung tinh thần đoàn kết với gia đình các nạn nhân và tiến hành điều tra nguyên nhân thảm họa”.\nNguồn tin quân sự, tình báo chống khủng bố DEBKAfile cho rằng nếu máy bay bị rơi bởi một hành động khủng bố, nó sẽ là cú sốc lớn nhất của IS đến ngành hàng không quốc tế dân sự, du lịch Ai Cập, và các dịch vụ an ninh, kiểm soát của Pháp và Ai Cập.\nMáy bay mang số hiệu MS804 của EgyptAir gặp nạn sáng nay 19/5 khi đang trên đường từ Paris đến Cairo của Ai Cập, mang theo 66 người trong đó chủ yếu là công dân Ai Cập.\nMáy bay MS804 gặp nạn khi đang trên đường từ sân bay quốc tế ở Paris đến Cairo của Ai Cập, mang theo 66 người trong đó chủ yếu là công dân Ai Cập.\nMột hành khách khác là một người Ai Cập đang trên đường trở về nhà, sau khi trải qua một đợt điều trị bệnh tại Pháp, theo AP.\nTại sân bay quốc tế Cairo (Ai Cập), một người đàn ông ôm mặt khóc và nói: “Ai Cập sẽ còn tồn tại được bao lâu khi mạng người quá rẻ rúng?”.\nMột trong những câu hỏi chính trong việc điều tra thảm họa máy bay mới nhất sẽ là thiết bị nổ được đưa lên máy bay ở Cairo hay Paris.\n"
     ]
    }
   ],
   "source": [
    "print('\\n'.join(summary))"
   ]
  },
  {
   "cell_type": "code",
   "execution_count": 6,
   "metadata": {},
   "outputs": [],
   "source": [
    "params = {\n",
    "    'data_path': '../data/interim/extract_content/Cluster_001',\n",
    "    'stop_words_path': '../data/external/stopwords.txt', \n",
    "    'punc_path': '../data/external/punctuation.txt',\n",
    "    'compression_rate': 0.05,\n",
    "    'remove_redundacy': True,\n",
    "    'wc': 1.0, \n",
    "    'wp': 1.0, \n",
    "    'wf': 1.0, \n",
    "    'n_centroid': 10, \n",
    "    'C_max': 10, \n",
    "    'ngram_range': (1, 1), \n",
    "    'max_features': 100,\n",
    "    'func': np.dot\n",
    "}"
   ]
  },
  {
   "cell_type": "code",
   "execution_count": 7,
   "metadata": {},
   "outputs": [
    {
     "output_type": "stream",
     "name": "stdout",
     "text": [
      "CPU times: user 37.4 s, sys: 18.2 ms, total: 37.5 s\nWall time: 38 s\n"
     ]
    }
   ],
   "source": [
    "%%time\n",
    "summary = Extractor.extract(**params)"
   ]
  },
  {
   "cell_type": "code",
   "execution_count": 8,
   "metadata": {},
   "outputs": [
    {
     "output_type": "stream",
     "name": "stdout",
     "text": [
      "Trước đó, hãng hàng không quốc gia Ai Cập đã công bố quốc tịch của những hành khách đi trên chuyến bay MS 804 bị mất tích, bao gồm 56 hành khách, trong đó có 30 người Ai Cập, 15 người Pháp, 2 người I-rắc, 1 người Anh, 1 người Bỉ, 1 người Kuwait, 1 người Saudi Arabia, 1 người Sudan, 1 người Cộng hòa Chad, 1 người Bồ Đào Nha, 1 người Angeria và 1 người Canada.\nTrong khi đó, phát biểu trong một cuộc họp báo tại thủ đô Cairo, Bộ trưởng Hàng không dân sự Ai Cập Sherif Fathi cho biết khả năng khủng bố tấn công khiến máy bay của hãng EgyptAir gặp nạn “lớn hơn nhiều” so với khả năng máy bay bị trục trặc kỹ thuật.\nÔng Ahmed Helal, Giám đốc Công ty Procter và Gamble ở thành phố Amien, Pháp, và một gia đình người Pháp gồm 2 trẻ nhỏ, một người ông 74 tuổi tên là Pierre Heslouin đến từ Nogent-sur-Marne cũng được cho là thiệt mạng trong vụ máy bay mất tích bí ẩn này.\nTổng thống Pháp Francois Hollande cho biết: “Không loại trừ hoặc ủng hộ bất kỳ một giả thuyết nào, cho dù là một tai nạn hay một khả năng khác mà mọi người nghĩ tới (ví dụ như một vụ khủng bố), thì ở giai đoạn này chúng ta cần tập trung tinh thần đoàn kết với gia đình các nạn nhân và tiến hành điều tra nguyên nhân thảm họa”.\nPascal Hess, người Pháp là một trong số 66 người, trong đó có 15 công dân Pháp, được cho là đã chết khi chuyến bay MS804 của Hãng hàng không Ai Cập biến mất trên đường đến Cairo hôm 19-5.\nNguồn tin quân sự, tình báo chống khủng bố DEBKAfile cho rằng nếu máy bay bị rơi bởi một hành động khủng bố, nó sẽ là cú sốc lớn nhất của IS đến ngành hàng không quốc tế dân sự, du lịch Ai Cập, và các dịch vụ an ninh, kiểm soát của Pháp và Ai Cập.\n“Tổng thống Ai Cập Abdel Fattah al-Sisi ra lệnh cho các cơ quan hữu trách, bao gồm Bộ Hàng không dân dụng, lực lượng không quân và hải quân tăng cường công tác tìm kiếm máy bay và áp dụng mọi biện pháp cần thiết để tìm ra mảnh vỡ máy bay”, theo thông cáo từ văn phòng Tổng thống Ai Cập.\nMột người khác tên là Abdulmohsen al-Muteiri, người Kuwait, một giáo sư kinh tế, đang trên đường đi dự một hội nghị.\nTrong khi đó với việc đặt giả thuyết vụ mất tích máy bay là một hành động khủng bố, các chuyên gia Pháp đã tập trung làm rõ quy trình tiến hành thủ tục lên máy bay tại nhà ga số 1 sân Charle de Gaulle, để tìm đối tượng khả nghi, xem lại việc kiểm tra hành lý và danh sách hành khách, xác định xem nhân viên ca trực thuộc lực lượng hiến binh phụ trách vận tải hàng không (GTA) có bỏ sót các hình ảnh trên máy chiếu kiểm tra an ninh không.\nGiới chuyên gia cho rằng, máy bay có thể đã bị tấn công khủng bố bởi lẽ hiếm khi máy bay trục trặc kỹ thuật ở độ cao như vậy vì trục trặc này thường chỉ xảy ra lúc cất cánh hoặc hạ cánh khi trọng lực ở mức cao nhất.\nSau đó, Phó chủ tịch EgyptAir, Ahmed Adel thừa nhận EgyptAir đưa ra thông tin sai và “công tác tìm kiếm và cứu hộ đang diễn ra”.\n"
     ]
    }
   ],
   "source": [
    "print('\\n'.join(summary))"
   ]
  }
 ],
 "metadata": {
  "kernelspec": {
   "display_name": "Python 3",
   "language": "python",
   "name": "python3"
  },
  "language_info": {
   "codemirror_mode": {
    "name": "ipython",
    "version": 3
   },
   "file_extension": ".py",
   "mimetype": "text/x-python",
   "name": "python",
   "nbconvert_exporter": "python",
   "pygments_lexer": "ipython3",
   "version": "3.7.9-final"
  }
 },
 "nbformat": 4,
 "nbformat_minor": 4
}