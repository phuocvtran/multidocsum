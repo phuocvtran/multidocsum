{
 "cells": [
  {
   "cell_type": "code",
   "execution_count": 1,
   "metadata": {},
   "outputs": [
    {
     "name": "stdout",
     "output_type": "stream",
     "text": [
      "Processing /mnt/HQ/uni/text-mining/proj\n",
      "Building wheels for collected packages: multidoc-dev\n",
      "  Building wheel for multidoc-dev (setup.py) ... \u001b[?25ldone\n",
      "\u001b[?25h  Created wheel for multidoc-dev: filename=multidoc_dev-0.0.0-py3-none-any.whl size=8318 sha256=74dffa661bb3018452af2854509808d0a9f53b46d30495ef216b7fcd297293d1\n",
      "  Stored in directory: /tmp/pip-ephem-wheel-cache-cqx0__hz/wheels/5b/5c/af/cdb4e45c07089112acb0b66661de457b84391376acd0332c24\n",
      "Successfully built multidoc-dev\n",
      "Installing collected packages: multidoc-dev\n",
      "  Attempting uninstall: multidoc-dev\n",
      "    Found existing installation: multidoc-dev 0.0.0\n",
      "    Uninstalling multidoc-dev-0.0.0:\n",
      "      Successfully uninstalled multidoc-dev-0.0.0\n",
      "Successfully installed multidoc-dev-0.0.0\n"
     ]
    }
   ],
   "source": [
    "!pip install .."
   ]
  },
  {
   "cell_type": "code",
   "execution_count": 2,
   "metadata": {},
   "outputs": [],
   "source": [
    "from src.models.extracting import Extractor\n",
    "import numpy as np"
   ]
  },
  {
   "cell_type": "code",
   "execution_count": 3,
   "metadata": {},
   "outputs": [],
   "source": [
    "params = {\n",
    "    'data_path': '../data/interim/extract_content/Cluster_001',\n",
    "    'stop_words_path': '../data/external/stopwords.txt', \n",
    "    'punc_path': '../data/external/punctuation.txt',\n",
    "    'compression_rate': 0.05,\n",
    "    'remove_redundacy': False,\n",
    "    'wc': 1.0, \n",
    "    'wp': 1.0, \n",
    "    'wf': 1.0, \n",
    "    'n_centroid': 10, \n",
    "    'C_max': 10, \n",
    "    'ngram_range': (1, 1), \n",
    "    'max_features': 100,\n",
    "    'func': np.dot\n",
    "}"
   ]
  },
  {
   "cell_type": "code",
   "execution_count": 4,
   "metadata": {},
   "outputs": [
    {
     "name": "stdout",
     "output_type": "stream",
     "text": [
      "CPU times: user 272 ms, sys: 7.8 ms, total: 280 ms\n",
      "Wall time: 280 ms\n"
     ]
    }
   ],
   "source": [
    "%%time\n",
    "summary = Extractor.extract(**params)"
   ]
  },
  {
   "cell_type": "code",
   "execution_count": 5,
   "metadata": {},
   "outputs": [
    {
     "name": "stdout",
     "output_type": "stream",
     "text": [
      "Trước đó, hãng hàng không quốc gia Ai Cập đã công bố quốc tịch của những hành khách đi trên chuyến bay MS 804 bị mất tích, bao gồm 56 hành khách, trong đó có 30 người Ai Cập, 15 người Pháp, 2 người I-rắc, 1 người Anh, 1 người Bỉ, 1 người Kuwait, 1 người Saudi Arabia, 1 người Sudan, 1 người Cộng hòa Chad, 1 người Bồ Đào Nha, 1 người Angeria và 1 người Canada.\n",
      "Trong khi đó, phát biểu trong một cuộc họp báo tại thủ đô Cairo, Bộ trưởng Hàng không dân sự Ai Cập Sherif Fathi cho biết khả năng khủng bố tấn công khiến máy bay của hãng EgyptAir gặp nạn “lớn hơn nhiều” so với khả năng máy bay bị trục trặc kỹ thuật.\n",
      "Ông Ahmed Helal, Giám đốc Công ty Procter và Gamble ở thành phố Amien, Pháp, và một gia đình người Pháp gồm 2 trẻ nhỏ, một người ông 74 tuổi tên là Pierre Heslouin đến từ Nogent-sur-Marne cũng được cho là thiệt mạng trong vụ máy bay mất tích bí ẩn này.\n",
      "Pascal Hess, người Pháp là một trong số 66 người, trong đó có 15 công dân Pháp, được cho là đã chết khi chuyến bay MS804 của Hãng hàng không Ai Cập biến mất trên đường đến Cairo hôm 19-5.\n",
      "Tổng thống Pháp Francois Hollande cho biết: “Không loại trừ hoặc ủng hộ bất kỳ một giả thuyết nào, cho dù là một tai nạn hay một khả năng khác mà mọi người nghĩ tới (ví dụ như một vụ khủng bố), thì ở giai đoạn này chúng ta cần tập trung tinh thần đoàn kết với gia đình các nạn nhân và tiến hành điều tra nguyên nhân thảm họa”.\n",
      "Nguồn tin quân sự, tình báo chống khủng bố DEBKAfile cho rằng nếu máy bay bị rơi bởi một hành động khủng bố, nó sẽ là cú sốc lớn nhất của IS đến ngành hàng không quốc tế dân sự, du lịch Ai Cập, và các dịch vụ an ninh, kiểm soát của Pháp và Ai Cập.\n",
      "Máy bay mang số hiệu MS804 của EgyptAir gặp nạn sáng nay 19/5 khi đang trên đường từ Paris đến Cairo của Ai Cập, mang theo 66 người trong đó chủ yếu là công dân Ai Cập.\n",
      "Máy bay MS804 gặp nạn khi đang trên đường từ sân bay quốc tế ở Paris đến Cairo của Ai Cập, mang theo 66 người trong đó chủ yếu là công dân Ai Cập.\n",
      "Một hành khách khác là một người Ai Cập đang trên đường trở về nhà, sau khi trải qua một đợt điều trị bệnh tại Pháp, theo AP.\n",
      "Tại sân bay quốc tế Cairo (Ai Cập), một người đàn ông ôm mặt khóc và nói: “Ai Cập sẽ còn tồn tại được bao lâu khi mạng người quá rẻ rúng?”.\n",
      "Một trong những câu hỏi chính trong việc điều tra thảm họa máy bay mới nhất sẽ là thiết bị nổ được đưa lên máy bay ở Cairo hay Paris.\n"
     ]
    }
   ],
   "source": [
    "print('\\n'.join(summary))"
   ]
  },
  {
   "cell_type": "code",
   "execution_count": 6,
   "metadata": {},
   "outputs": [],
   "source": [
    "params = {\n",
    "    'data_path': '../data/interim/extract_content/Cluster_001',\n",
    "    'stop_words_path': '../data/external/stopwords.txt', \n",
    "    'punc_path': '../data/external/punctuation.txt',\n",
    "    'compression_rate': 0.05,\n",
    "    'remove_redundacy': True,\n",
    "    'wc': 1.0, \n",
    "    'wp': 1.0, \n",
    "    'wf': 1.0, \n",
    "    'n_centroid': 10, \n",
    "    'C_max': 10, \n",
    "    'ngram_range': (1, 1), \n",
    "    'max_features': 100,\n",
    "    'func': np.dot\n",
    "}"
   ]
  },
  {
   "cell_type": "code",
   "execution_count": 7,
   "metadata": {},
   "outputs": [
    {
     "name": "stderr",
     "output_type": "stream",
     "text": [
      "/home/miu/miniconda3/envs/text-mining/lib/python3.7/site-packages/pandas/core/indexing.py:670: SettingWithCopyWarning: \n",
      "A value is trying to be set on a copy of a slice from a DataFrame\n",
      "\n",
      "See the caveats in the documentation: https://pandas.pydata.org/pandas-docs/stable/user_guide/indexing.html#returning-a-view-versus-a-copy\n",
      "  iloc._setitem_with_indexer(indexer, value)\n"
     ]
    },
    {
     "name": "stdout",
     "output_type": "stream",
     "text": [
      "CPU times: user 1min 4s, sys: 130 ms, total: 1min 4s\n",
      "Wall time: 1min 4s\n"
     ]
    }
   ],
   "source": [
    "%%time\n",
    "summary = Extractor.extract(**params)"
   ]
  },
  {
   "cell_type": "code",
   "execution_count": 8,
   "metadata": {},
   "outputs": [
    {
     "name": "stdout",
     "output_type": "stream",
     "text": [
      "Trước đó, hãng hàng không quốc gia Ai Cập đã công bố quốc tịch của những hành khách đi trên chuyến bay MS 804 bị mất tích, bao gồm 56 hành khách, trong đó có 30 người Ai Cập, 15 người Pháp, 2 người I-rắc, 1 người Anh, 1 người Bỉ, 1 người Kuwait, 1 người Saudi Arabia, 1 người Sudan, 1 người Cộng hòa Chad, 1 người Bồ Đào Nha, 1 người Angeria và 1 người Canada.\n",
      "Trong khi đó, phát biểu trong một cuộc họp báo tại thủ đô Cairo, Bộ trưởng Hàng không dân sự Ai Cập Sherif Fathi cho biết khả năng khủng bố tấn công khiến máy bay của hãng EgyptAir gặp nạn “lớn hơn nhiều” so với khả năng máy bay bị trục trặc kỹ thuật.\n",
      "Tuy nhiên, các quan chức này lưu ý đây chỉ là phỏng đoán dựa trên hoàn cảnh thực tế chứ không phải dựa trên những bằng chứng xác thực.\n",
      "Ông Ahmed Helal, Giám đốc Công ty Procter và Gamble ở thành phố Amien, Pháp, và một gia đình người Pháp gồm 2 trẻ nhỏ, một người ông 74 tuổi tên là Pierre Heslouin đến từ Nogent-sur-Marne cũng được cho là thiệt mạng trong vụ máy bay mất tích bí ẩn này.\n",
      "Hiện chưa có bình luận từ nhà chức trách liên quan diễn biến này.\n",
      "Họ đều là những phi công dày dặn kinh nghiệm.\n",
      "Tuy nhiên, việc bảo dưỡng cũng rất quan trọng.\n",
      "Tổng thống Pháp Francois Hollande cho biết: “Không loại trừ hoặc ủng hộ bất kỳ một giả thuyết nào, cho dù là một tai nạn hay một khả năng khác mà mọi người nghĩ tới (ví dụ như một vụ khủng bố), thì ở giai đoạn này chúng ta cần tập trung tinh thần đoàn kết với gia đình các nạn nhân và tiến hành điều tra nguyên nhân thảm họa”.\n",
      "Tất cả 224 hành khách và phi hành đoàn đã thiệt mạng.\n",
      "Chúng tôi sẽ tiếp tục theo dõi chặt chẽ diễn biến và nếu được đề nghị, NATO luôn sẵn sàng giúp đỡ”, ông Jens Stoltenberg nói.\n",
      "Việc chiếm được thị trấn này có thể mở đường để quân đội chính phủ giành thêm những bước tiến lớn tại khu vực Ghouta, vốn từ lâu do rất nhiều nhóm phiến quân kiểm soát.\n"
     ]
    }
   ],
   "source": [
    "print('\\n'.join(summary))"
   ]
  }
 ],
 "metadata": {
  "kernelspec": {
   "display_name": "Python 3",
   "language": "python",
   "name": "python3"
  },
  "language_info": {
   "codemirror_mode": {
    "name": "ipython",
    "version": 3
   },
   "file_extension": ".py",
   "mimetype": "text/x-python",
   "name": "python",
   "nbconvert_exporter": "python",
   "pygments_lexer": "ipython3",
   "version": "3.7.9"
  }
 },
 "nbformat": 4,
 "nbformat_minor": 4
}
