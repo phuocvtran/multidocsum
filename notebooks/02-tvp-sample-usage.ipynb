{
 "cells": [
  {
   "cell_type": "code",
   "execution_count": 1,
   "metadata": {},
   "outputs": [
    {
     "output_type": "stream",
     "name": "stdout",
     "text": [
      "Processing /mnt/HQ/uni/text-mining/multidocsum\n",
      "Requirement already satisfied: nltk==3.5 in /home/miu/miniconda3/envs/text-mining/lib/python3.7/site-packages (from multidocsum==0.0.1) (3.5)\n",
      "Requirement already satisfied: numpy==1.19.4 in /home/miu/miniconda3/envs/text-mining/lib/python3.7/site-packages (from multidocsum==0.0.1) (1.19.4)\n",
      "Requirement already satisfied: regex==2020.11.13 in /home/miu/miniconda3/envs/text-mining/lib/python3.7/site-packages (from multidocsum==0.0.1) (2020.11.13)\n",
      "Requirement already satisfied: scikit-learn==0.21.3 in /home/miu/miniconda3/envs/text-mining/lib/python3.7/site-packages (from multidocsum==0.0.1) (0.21.3)\n",
      "Requirement already satisfied: scipy==1.5.4 in /home/miu/miniconda3/envs/text-mining/lib/python3.7/site-packages (from multidocsum==0.0.1) (1.5.4)\n",
      "Requirement already satisfied: underthesea==1.2.2 in /home/miu/miniconda3/envs/text-mining/lib/python3.7/site-packages (from multidocsum==0.0.1) (1.2.2)\n",
      "Requirement already satisfied: pyvi==0.1 in /home/miu/miniconda3/envs/text-mining/lib/python3.7/site-packages (from multidocsum==0.0.1) (0.1)\n",
      "Requirement already satisfied: pandas==1.1.4 in /home/miu/miniconda3/envs/text-mining/lib/python3.7/site-packages (from multidocsum==0.0.1) (1.1.4)\n",
      "Requirement already satisfied: joblib in /home/miu/miniconda3/envs/text-mining/lib/python3.7/site-packages (from nltk==3.5->multidocsum==0.0.1) (0.17.0)\n",
      "Requirement already satisfied: click in /home/miu/miniconda3/envs/text-mining/lib/python3.7/site-packages (from nltk==3.5->multidocsum==0.0.1) (7.1.2)\n",
      "Requirement already satisfied: tqdm in /home/miu/miniconda3/envs/text-mining/lib/python3.7/site-packages (from nltk==3.5->multidocsum==0.0.1) (4.51.0)\n",
      "Requirement already satisfied: tabulate in /home/miu/miniconda3/envs/text-mining/lib/python3.7/site-packages (from underthesea==1.2.2->multidocsum==0.0.1) (0.8.7)\n",
      "Requirement already satisfied: unidecode in /home/miu/miniconda3/envs/text-mining/lib/python3.7/site-packages (from underthesea==1.2.2->multidocsum==0.0.1) (1.1.1)\n",
      "Requirement already satisfied: python-crfsuite>=0.9.6 in /home/miu/miniconda3/envs/text-mining/lib/python3.7/site-packages (from underthesea==1.2.2->multidocsum==0.0.1) (0.9.7)\n",
      "Requirement already satisfied: requests in /home/miu/miniconda3/envs/text-mining/lib/python3.7/site-packages (from underthesea==1.2.2->multidocsum==0.0.1) (2.25.0)\n",
      "Requirement already satisfied: sklearn-crfsuite in /home/miu/miniconda3/envs/text-mining/lib/python3.7/site-packages (from pyvi==0.1->multidocsum==0.0.1) (0.3.6)\n",
      "Requirement already satisfied: pytz>=2017.2 in /home/miu/miniconda3/envs/text-mining/lib/python3.7/site-packages (from pandas==1.1.4->multidocsum==0.0.1) (2020.4)\n",
      "Requirement already satisfied: python-dateutil>=2.7.3 in /home/miu/miniconda3/envs/text-mining/lib/python3.7/site-packages (from pandas==1.1.4->multidocsum==0.0.1) (2.8.1)\n",
      "Requirement already satisfied: urllib3<1.27,>=1.21.1 in /home/miu/miniconda3/envs/text-mining/lib/python3.7/site-packages (from requests->underthesea==1.2.2->multidocsum==0.0.1) (1.26.2)\n",
      "Requirement already satisfied: chardet<4,>=3.0.2 in /home/miu/miniconda3/envs/text-mining/lib/python3.7/site-packages (from requests->underthesea==1.2.2->multidocsum==0.0.1) (3.0.4)\n",
      "Requirement already satisfied: certifi>=2017.4.17 in /home/miu/miniconda3/envs/text-mining/lib/python3.7/site-packages (from requests->underthesea==1.2.2->multidocsum==0.0.1) (2020.6.20)\n",
      "Requirement already satisfied: idna<3,>=2.5 in /home/miu/miniconda3/envs/text-mining/lib/python3.7/site-packages (from requests->underthesea==1.2.2->multidocsum==0.0.1) (2.10)\n",
      "Requirement already satisfied: six in /home/miu/miniconda3/envs/text-mining/lib/python3.7/site-packages (from sklearn-crfsuite->pyvi==0.1->multidocsum==0.0.1) (1.15.0)\n",
      "Building wheels for collected packages: multidocsum\n",
      "  Building wheel for multidocsum (setup.py) ... \u001b[?25ldone\n",
      "\u001b[?25h  Created wheel for multidocsum: filename=multidocsum-0.0.1-py3-none-any.whl size=8668 sha256=f430e928ad0539f9e48c0fc2499e7be690772f3a2ed8998e5ad78a94c309ddba\n",
      "  Stored in directory: /tmp/pip-ephem-wheel-cache-r8lr252z/wheels/02/74/95/c7b282f469bd75d8476184f75ec79b255b390a90201a66b918\n",
      "Successfully built multidocsum\n",
      "Installing collected packages: multidocsum\n",
      "  Attempting uninstall: multidocsum\n",
      "    Found existing installation: multidocsum 0.0.1\n",
      "    Uninstalling multidocsum-0.0.1:\n",
      "      Successfully uninstalled multidocsum-0.0.1\n",
      "Successfully installed multidocsum-0.0.1\n"
     ]
    }
   ],
   "source": [
    "!pip install .."
   ]
  },
  {
   "cell_type": "code",
   "execution_count": 2,
   "metadata": {},
   "outputs": [],
   "source": [
    "from src.models.extracting import MEAD"
   ]
  },
  {
   "cell_type": "code",
   "execution_count": 3,
   "metadata": {},
   "outputs": [],
   "source": [
    "params = {\n",
    "    'stop_words_path': '../data/external/stopwords.txt', \n",
    "    'punc_path': '../data/external/punctuation.txt',\n",
    "    'remove_redundant_sent': False,\n",
    "    'wc': 1.0, \n",
    "    'wp': 1.0, \n",
    "    'wf': 1.0, \n",
    "    'n_centroid': 10, \n",
    "    'C_max': 10, \n",
    "    'ngram_range': (1, 1), \n",
    "    'max_features': 100\n",
    "}"
   ]
  },
  {
   "cell_type": "code",
   "execution_count": 4,
   "metadata": {},
   "outputs": [],
   "source": [
    "summarier = MEAD(**params)"
   ]
  },
  {
   "cell_type": "code",
   "execution_count": 5,
   "metadata": {},
   "outputs": [
    {
     "output_type": "stream",
     "name": "stdout",
     "text": [
      "CPU times: user 425 ms, sys: 17.9 ms, total: 443 ms\nWall time: 450 ms\n"
     ]
    }
   ],
   "source": [
    "%%time\n",
    "summary = summarier.extract(data_path='../data/interim/extract_content/Cluster_001', compression_rate=0.05)"
   ]
  },
  {
   "cell_type": "code",
   "execution_count": 6,
   "metadata": {},
   "outputs": [
    {
     "output_type": "stream",
     "name": "stdout",
     "text": [
      "Pascal Hess, người Pháp là một trong số 66 người, trong đó có 15 công dân Pháp, được cho là đã chết khi chuyến bay MS804 của Hãng hàng không Ai Cập biến mất trên đường đến Cairo hôm 19-5.\nTổng thư ký Tổ chức Hiệp ước Bắc Đại Tây Dương (NATO) Jens Stoltenberg ngày 19/5 cho biết, nếu Ai Cập đề nghị, liên minh này sẽ hỗ trợ công tác tìm kiếm chiếc máy bay mang số hiệu MS 804 của hãng hàng không Ai Cập chở 66 người mất tích trước đó cùng ngày.\nSamar Ezz Eldin là một trong những người có mặt trên chuyến bay số hiệu MS804 của EgyptAir - mất tích ngày 19-5 ngay sau khi đang thực hiện chuyến bay từ Paris tới Cairo.\nCó thể bị tấn công bằng tên lửa đất đối không Hãng phân tích tình báo Stratfor của Mỹ nhận định, máy bay của EgyptAir có thể đã bị tấn công bởi một tên lửa đất đối không.\nChiếc Airbus A320-232 số hiệu MS804 của hãng hàng không EgyptAir khởi hành lúc 23:09 phút ngày 18/5 từ sân bay Charles de Gaulle, Paris, Pháp tới Cairo, Ai Cập.\nPhó Chủ tịch EgyptAir, ông Ahmed Adel, không loại trừ khả năng máy bay bị đặt bom hoặc bị đe dọa từ bên trong.\nBộ trưởng Quốc phòng Hy Lạp Panos Kammenos, máy bay đã \"quay 90 độ sang trái và 360 độ sang phải, hạ độ cao từ 37.000 feet xuống 15.000 feet và mất tín hiệu ở độ cao 10.000 feet\" (khoảng 11 km).\nHãng tin RIA Novosti của Nga dẫn nguồn tin từ trang Al-Masry Al-Youm hôm qua 19/5 cho biết, cách đây gần hai năm, vào ngày 26/9/2014, nữ tiếp viên Ezeddin Samar của EgyptAir đã đăng tải một bức ảnh kỳ lạ trên Facebook cá nhân của cô chỉ vài tháng trước khi cô xin vào làm tại hãng.\nCác chuyên gia hàng không lo ngại một hành động cố ý đã khiến máy bay biến mất khỏi màn hình radar vào sáng ngày 19.5, theo tờ South China Morning Post (Hồng Kông) ngày 20.5.\nTheo các nguồn tin, hải mảnh nhựa vỡ được tìm thấy có màu trắng và đỏ.\n“Đây vẫn có thể là một vụ tấn công bằng tên lửa đất đối không mặc dù các phiến quân ở Ai Cập và các khu vực xung quanh khó có khả năng tấn công máy bay ở tọa độ đó”.\n"
     ]
    }
   ],
   "source": [
    "print('\\n'.join(summary))"
   ]
  },
  {
   "cell_type": "code",
   "execution_count": 7,
   "metadata": {},
   "outputs": [],
   "source": [
    "params = {\n",
    "    'stop_words_path': '../data/external/stopwords.txt', \n",
    "    'punc_path': '../data/external/punctuation.txt',\n",
    "    'remove_redundant_sent': True,\n",
    "    'wc': 3.0, \n",
    "    'wp': 0.7, \n",
    "    'wf': 0., \n",
    "    'n_centroid': 10, \n",
    "    'C_max': 10, \n",
    "    'ngram_range': (1, 1), \n",
    "    'max_features': 100\n",
    "}"
   ]
  },
  {
   "cell_type": "code",
   "execution_count": 8,
   "metadata": {},
   "outputs": [],
   "source": [
    "summarier = MEAD(**params)"
   ]
  },
  {
   "cell_type": "code",
   "execution_count": 9,
   "metadata": {},
   "outputs": [
    {
     "output_type": "stream",
     "name": "stdout",
     "text": [
      "CPU times: user 19.8 s, sys: 6 ms, total: 19.8 s\nWall time: 20.1 s\n"
     ]
    }
   ],
   "source": [
    "%%time\n",
    "summary = summarier.extract(data_path='../data/interim/extract_content/Cluster_001', compression_rate=0.05)"
   ]
  },
  {
   "cell_type": "code",
   "execution_count": 10,
   "metadata": {},
   "outputs": [
    {
     "output_type": "stream",
     "name": "stdout",
     "text": [
      "Trước đó, hãng hàng không quốc gia Ai Cập đã công bố quốc tịch của những hành khách đi trên chuyến bay MS 804 bị mất tích, bao gồm 56 hành khách, trong đó có 30 người Ai Cập, 15 người Pháp, 2 người I-rắc, 1 người Anh, 1 người Bỉ, 1 người Kuwait, 1 người Saudi Arabia, 1 người Sudan, 1 người Cộng hòa Chad, 1 người Bồ Đào Nha, 1 người Angeria và 1 người Canada.\nPascal Hess, người Pháp là một trong số 66 người, trong đó có 15 công dân Pháp, được cho là đã chết khi chuyến bay MS804 của Hãng hàng không Ai Cập biến mất trên đường đến Cairo hôm 19-5.\nTổng thư ký Tổ chức Hiệp ước Bắc Đại Tây Dương (NATO) Jens Stoltenberg ngày 19/5 cho biết, nếu Ai Cập đề nghị, liên minh này sẽ hỗ trợ công tác tìm kiếm chiếc máy bay mang số hiệu MS 804 của hãng hàng không Ai Cập chở 66 người mất tích trước đó cùng ngày.\nÔng Ahmed Helal, Giám đốc Công ty Procter và Gamble ở thành phố Amien, Pháp, và một gia đình người Pháp gồm 2 trẻ nhỏ, một người ông 74 tuổi tên là Pierre Heslouin đến từ Nogent-sur-Marne cũng được cho là thiệt mạng trong vụ máy bay mất tích bí ẩn này.\nTrong khi đó, phát biểu trong một cuộc họp báo tại thủ đô Cairo, Bộ trưởng Hàng không dân sự Ai Cập Sherif Fathi cho biết khả năng khủng bố tấn công khiến máy bay của hãng EgyptAir gặp nạn “lớn hơn nhiều” so với khả năng máy bay bị trục trặc kỹ thuật.\n“Đây vẫn có thể là một vụ tấn công bằng tên lửa đất đối không mặc dù các phiến quân ở Ai Cập và các khu vực xung quanh khó có khả năng tấn công máy bay ở tọa độ đó”.\nPhó Chủ tịch EgyptAir, ông Ahmed Adel, không loại trừ khả năng máy bay bị đặt bom hoặc bị đe dọa từ bên trong.\nBộ trưởng Quốc phòng Hy Lạp Panos Kammenos, máy bay đã \"quay 90 độ sang trái và 360 độ sang phải, hạ độ cao từ 37.000 feet xuống 15.000 feet và mất tín hiệu ở độ cao 10.000 feet\" (khoảng 11 km).\nTheo các nguồn tin, hải mảnh nhựa vỡ được tìm thấy có màu trắng và đỏ.\nSamar Ezz Eldin là một trong những người có mặt trên chuyến bay số hiệu MS804 của EgyptAir - mất tích ngày 19-5 ngay sau khi đang thực hiện chuyến bay từ Paris tới Cairo.\nCó thể bị tấn công bằng tên lửa đất đối không Hãng phân tích tình báo Stratfor của Mỹ nhận định, máy bay của EgyptAir có thể đã bị tấn công bởi một tên lửa đất đối không.\n"
     ]
    }
   ],
   "source": [
    "print('\\n'.join(summary))"
   ]
  }
 ],
 "metadata": {
  "kernelspec": {
   "display_name": "Python 3",
   "language": "python",
   "name": "python3"
  },
  "language_info": {
   "codemirror_mode": {
    "name": "ipython",
    "version": 3
   },
   "file_extension": ".py",
   "mimetype": "text/x-python",
   "name": "python",
   "nbconvert_exporter": "python",
   "pygments_lexer": "ipython3",
   "version": "3.7.9-final"
  }
 },
 "nbformat": 4,
 "nbformat_minor": 4
}