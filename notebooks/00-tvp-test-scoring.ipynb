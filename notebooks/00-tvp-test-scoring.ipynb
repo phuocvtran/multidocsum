{
 "cells": [
  {
   "cell_type": "code",
   "execution_count": 1,
   "metadata": {},
   "outputs": [
    {
     "output_type": "stream",
     "name": "stdout",
     "text": [
      "Processing /mnt/HQ/uni/text-mining/multidocsum\n",
      "Requirement already satisfied: nltk==3.5 in /home/miu/miniconda3/envs/text-mining/lib/python3.7/site-packages (from multidocsum==0.0.1) (3.5)\n",
      "Requirement already satisfied: numpy==1.19.4 in /home/miu/miniconda3/envs/text-mining/lib/python3.7/site-packages (from multidocsum==0.0.1) (1.19.4)\n",
      "Requirement already satisfied: regex==2020.11.13 in /home/miu/miniconda3/envs/text-mining/lib/python3.7/site-packages (from multidocsum==0.0.1) (2020.11.13)\n",
      "Requirement already satisfied: scikit-learn==0.21.3 in /home/miu/miniconda3/envs/text-mining/lib/python3.7/site-packages (from multidocsum==0.0.1) (0.21.3)\n",
      "Requirement already satisfied: scipy==1.5.4 in /home/miu/miniconda3/envs/text-mining/lib/python3.7/site-packages (from multidocsum==0.0.1) (1.5.4)\n",
      "Requirement already satisfied: underthesea==1.2.2 in /home/miu/miniconda3/envs/text-mining/lib/python3.7/site-packages (from multidocsum==0.0.1) (1.2.2)\n",
      "Requirement already satisfied: pyvi==0.1 in /home/miu/miniconda3/envs/text-mining/lib/python3.7/site-packages (from multidocsum==0.0.1) (0.1)\n",
      "Requirement already satisfied: pandas==1.1.4 in /home/miu/miniconda3/envs/text-mining/lib/python3.7/site-packages (from multidocsum==0.0.1) (1.1.4)\n",
      "Requirement already satisfied: joblib in /home/miu/miniconda3/envs/text-mining/lib/python3.7/site-packages (from nltk==3.5->multidocsum==0.0.1) (0.17.0)\n",
      "Requirement already satisfied: click in /home/miu/miniconda3/envs/text-mining/lib/python3.7/site-packages (from nltk==3.5->multidocsum==0.0.1) (7.1.2)\n",
      "Requirement already satisfied: tqdm in /home/miu/miniconda3/envs/text-mining/lib/python3.7/site-packages (from nltk==3.5->multidocsum==0.0.1) (4.51.0)\n",
      "Requirement already satisfied: tabulate in /home/miu/miniconda3/envs/text-mining/lib/python3.7/site-packages (from underthesea==1.2.2->multidocsum==0.0.1) (0.8.7)\n",
      "Requirement already satisfied: requests in /home/miu/miniconda3/envs/text-mining/lib/python3.7/site-packages (from underthesea==1.2.2->multidocsum==0.0.1) (2.25.0)\n",
      "Requirement already satisfied: python-crfsuite>=0.9.6 in /home/miu/miniconda3/envs/text-mining/lib/python3.7/site-packages (from underthesea==1.2.2->multidocsum==0.0.1) (0.9.7)\n",
      "Requirement already satisfied: unidecode in /home/miu/miniconda3/envs/text-mining/lib/python3.7/site-packages (from underthesea==1.2.2->multidocsum==0.0.1) (1.1.1)\n",
      "Requirement already satisfied: sklearn-crfsuite in /home/miu/miniconda3/envs/text-mining/lib/python3.7/site-packages (from pyvi==0.1->multidocsum==0.0.1) (0.3.6)\n",
      "Requirement already satisfied: pytz>=2017.2 in /home/miu/miniconda3/envs/text-mining/lib/python3.7/site-packages (from pandas==1.1.4->multidocsum==0.0.1) (2020.4)\n",
      "Requirement already satisfied: python-dateutil>=2.7.3 in /home/miu/miniconda3/envs/text-mining/lib/python3.7/site-packages (from pandas==1.1.4->multidocsum==0.0.1) (2.8.1)\n",
      "Requirement already satisfied: chardet<4,>=3.0.2 in /home/miu/miniconda3/envs/text-mining/lib/python3.7/site-packages (from requests->underthesea==1.2.2->multidocsum==0.0.1) (3.0.4)\n",
      "Requirement already satisfied: certifi>=2017.4.17 in /home/miu/miniconda3/envs/text-mining/lib/python3.7/site-packages (from requests->underthesea==1.2.2->multidocsum==0.0.1) (2020.6.20)\n",
      "Requirement already satisfied: urllib3<1.27,>=1.21.1 in /home/miu/miniconda3/envs/text-mining/lib/python3.7/site-packages (from requests->underthesea==1.2.2->multidocsum==0.0.1) (1.26.2)\n",
      "Requirement already satisfied: idna<3,>=2.5 in /home/miu/miniconda3/envs/text-mining/lib/python3.7/site-packages (from requests->underthesea==1.2.2->multidocsum==0.0.1) (2.10)\n",
      "Requirement already satisfied: six in /home/miu/miniconda3/envs/text-mining/lib/python3.7/site-packages (from sklearn-crfsuite->pyvi==0.1->multidocsum==0.0.1) (1.15.0)\n",
      "Building wheels for collected packages: multidocsum\n",
      "  Building wheel for multidocsum (setup.py) ... \u001b[?25ldone\n",
      "\u001b[?25h  Created wheel for multidocsum: filename=multidocsum-0.0.1-py3-none-any.whl size=8469 sha256=6741de2e583f49ae821909d9ffb6d42427539bcdeb2d657909798208818355d9\n",
      "  Stored in directory: /tmp/pip-ephem-wheel-cache-2jmcr9g3/wheels/02/74/95/c7b282f469bd75d8476184f75ec79b255b390a90201a66b918\n",
      "Successfully built multidocsum\n",
      "Installing collected packages: multidocsum\n",
      "  Attempting uninstall: multidocsum\n",
      "    Found existing installation: multidocsum 0.0.1\n",
      "    Uninstalling multidocsum-0.0.1:\n",
      "      Successfully uninstalled multidocsum-0.0.1\n",
      "Successfully installed multidocsum-0.0.1\n"
     ]
    }
   ],
   "source": [
    "!pip install .."
   ]
  },
  {
   "cell_type": "code",
   "execution_count": 2,
   "metadata": {},
   "outputs": [],
   "source": [
    "from src.data.data_io import DataIO\n",
    "from src.features.utils import Utils"
   ]
  },
  {
   "cell_type": "code",
   "execution_count": 7,
   "metadata": {},
   "outputs": [],
   "source": [
    "data = DataIO.load('../data/interim/extract_content/Cluster_001')"
   ]
  },
  {
   "cell_type": "code",
   "execution_count": 8,
   "metadata": {},
   "outputs": [],
   "source": [
    "processed_data, data = Utils.preprocess(data, \n",
    "                                        stop_words_path='../data/external/stopwords.txt', \n",
    "                                        punc_path='../data/external/punctuation.txt')"
   ]
  },
  {
   "cell_type": "code",
   "execution_count": 9,
   "metadata": {},
   "outputs": [],
   "source": [
    "data_frame = Utils.get_dataframe(data, processed_data)"
   ]
  },
  {
   "cell_type": "code",
   "execution_count": 10,
   "metadata": {},
   "outputs": [
    {
     "output_type": "execute_result",
     "data": {
      "text/plain": [
       "                                                 raw  \\\n",
       "0  Hãng tin RIA Novosti của Nga dẫn nguồn tin từ ...   \n",
       "1  Trong bức ảnh này, Ezeddin Samar mặc đồng phục...   \n",
       "2  Chỉ vài tháng sau khi cô đăng bức ảnh này, cô ...   \n",
       "3  Ezeddin Samar cũng chính là nữ tiếp viên có mặ...   \n",
       "4  Sự trùng hợp ngẫu nhiên này đang làm xôn xao d...   \n",
       "\n",
       "                                           processed    doc  pos  \n",
       "0  hãng tin ria novosti nga dẫn nguồn tin trang a...  4.txt    1  \n",
       "1  trong bức ảnh ezeddin samar mặc đồng_phục egyp...  4.txt    2  \n",
       "2      vài tháng cô đăng bức ảnh cô xin làm egyptair  4.txt    3  \n",
       "3  ezeddin samar chính nữ tiếp_viên có_mặt chuyến...  4.txt    4  \n",
       "4  trùng_hợp ngẫu_nhiên làm xôn_xao dư_luận đặc_b...  4.txt    5  "
      ],
      "text/html": "<div>\n<style scoped>\n    .dataframe tbody tr th:only-of-type {\n        vertical-align: middle;\n    }\n\n    .dataframe tbody tr th {\n        vertical-align: top;\n    }\n\n    .dataframe thead th {\n        text-align: right;\n    }\n</style>\n<table border=\"1\" class=\"dataframe\">\n  <thead>\n    <tr style=\"text-align: right;\">\n      <th></th>\n      <th>raw</th>\n      <th>processed</th>\n      <th>doc</th>\n      <th>pos</th>\n    </tr>\n  </thead>\n  <tbody>\n    <tr>\n      <th>0</th>\n      <td>Hãng tin RIA Novosti của Nga dẫn nguồn tin từ ...</td>\n      <td>hãng tin ria novosti nga dẫn nguồn tin trang a...</td>\n      <td>4.txt</td>\n      <td>1</td>\n    </tr>\n    <tr>\n      <th>1</th>\n      <td>Trong bức ảnh này, Ezeddin Samar mặc đồng phục...</td>\n      <td>trong bức ảnh ezeddin samar mặc đồng_phục egyp...</td>\n      <td>4.txt</td>\n      <td>2</td>\n    </tr>\n    <tr>\n      <th>2</th>\n      <td>Chỉ vài tháng sau khi cô đăng bức ảnh này, cô ...</td>\n      <td>vài tháng cô đăng bức ảnh cô xin làm egyptair</td>\n      <td>4.txt</td>\n      <td>3</td>\n    </tr>\n    <tr>\n      <th>3</th>\n      <td>Ezeddin Samar cũng chính là nữ tiếp viên có mặ...</td>\n      <td>ezeddin samar chính nữ tiếp_viên có_mặt chuyến...</td>\n      <td>4.txt</td>\n      <td>4</td>\n    </tr>\n    <tr>\n      <th>4</th>\n      <td>Sự trùng hợp ngẫu nhiên này đang làm xôn xao d...</td>\n      <td>trùng_hợp ngẫu_nhiên làm xôn_xao dư_luận đặc_b...</td>\n      <td>4.txt</td>\n      <td>5</td>\n    </tr>\n  </tbody>\n</table>\n</div>"
     },
     "metadata": {},
     "execution_count": 10
    }
   ],
   "source": [
    "data_frame.head()"
   ]
  },
  {
   "cell_type": "code",
   "execution_count": 11,
   "metadata": {},
   "outputs": [],
   "source": [
    "centroids = Utils.get_centroid(data_frame.processed.to_list(), data_frame.doc.to_list(), n_centroid=20)"
   ]
  },
  {
   "cell_type": "code",
   "execution_count": 12,
   "metadata": {
    "scrolled": true
   },
   "outputs": [
    {
     "output_type": "execute_result",
     "data": {
      "text/plain": [
       "[('máy_bay', 18.787309629686725),\n",
       " ('một', 16.211693435288918),\n",
       " ('người', 15.166167878883408),\n",
       " ('cập', 13.476383583249497),\n",
       " ('trong', 12.822051436411856),\n",
       " ('ở', 10.062240110923737),\n",
       " ('ai', 9.650938929191689),\n",
       " ('egyptair', 9.526153337277291),\n",
       " ('khủng_bố', 9.007441501631122),\n",
       " ('pháp', 8.49996245602853),\n",
       " ('hãng', 8.40694540152238),\n",
       " ('ms804', 8.208596237021698),\n",
       " ('biết', 7.904574154169042),\n",
       " ('thấy', 7.809107829179073),\n",
       " ('chuyến', 7.590775561485328),\n",
       " ('mất_tích', 7.488632486880218),\n",
       " ('đến', 7.488632486880218),\n",
       " ('vụ', 7.118670855294799),\n",
       " ('ngày', 7.043144613501353),\n",
       " ('mảnh', 6.698884424185685)]"
      ]
     },
     "metadata": {},
     "execution_count": 12
    }
   ],
   "source": [
    "centroids"
   ]
  },
  {
   "cell_type": "code",
   "execution_count": 13,
   "metadata": {},
   "outputs": [],
   "source": [
    "from src.features.scoring import Scorer"
   ]
  },
  {
   "cell_type": "code",
   "execution_count": 14,
   "metadata": {},
   "outputs": [],
   "source": [
    "cent_score = Scorer.get_centroid_score(data_frame.processed.to_list(), centroids)"
   ]
  },
  {
   "cell_type": "code",
   "execution_count": 15,
   "metadata": {},
   "outputs": [],
   "source": [
    "data_frame['centroid_score'] = cent_score"
   ]
  },
  {
   "cell_type": "code",
   "execution_count": 16,
   "metadata": {},
   "outputs": [],
   "source": [
    "pos_score = Scorer.get_pos_score(data_frame.doc.to_list(), data_frame.pos.to_list())"
   ]
  },
  {
   "cell_type": "code",
   "execution_count": 17,
   "metadata": {},
   "outputs": [],
   "source": [
    "data_frame['pos_score'] = pos_score"
   ]
  },
  {
   "cell_type": "code",
   "execution_count": 18,
   "metadata": {},
   "outputs": [],
   "source": [
    "ovl_score = Scorer.get_first_sent_overlap_score(data_frame.processed.to_list(), data_frame.pos.to_list(), data_frame.doc.to_list())"
   ]
  },
  {
   "cell_type": "code",
   "execution_count": 19,
   "metadata": {},
   "outputs": [],
   "source": [
    "data_frame['ovl_score'] = ovl_score"
   ]
  },
  {
   "cell_type": "code",
   "execution_count": 20,
   "metadata": {},
   "outputs": [
    {
     "output_type": "execute_result",
     "data": {
      "text/plain": [
       "                                                  raw  \\\n",
       "0   Hãng tin RIA Novosti của Nga dẫn nguồn tin từ ...   \n",
       "1   Trong bức ảnh này, Ezeddin Samar mặc đồng phục...   \n",
       "2   Chỉ vài tháng sau khi cô đăng bức ảnh này, cô ...   \n",
       "3   Ezeddin Samar cũng chính là nữ tiếp viên có mặ...   \n",
       "4   Sự trùng hợp ngẫu nhiên này đang làm xôn xao d...   \n",
       "5   Máy bay A320 với số hiệu chuyến bay MS804 của ...   \n",
       "6   Được biết, phi hành đoàn trên chuyến bay gồm 2...   \n",
       "7   Điều đáng nói là thời điểm máy bay mất tích kh...   \n",
       "8   Theo lời giới chức Hy Lạp, ở những phút cuối, ...   \n",
       "9   Ở độ cao hơn 11.000m, máy bay bất ngờ xoay ngo...   \n",
       "10  Giới chuyên gia cho rằng, máy bay có thể đã bị...   \n",
       "11  Có thể bị tấn công bằng tên lửa đất đối không ...   \n",
       "12  “Đây vẫn có thể là một vụ tấn công bằng tên lử...   \n",
       "13  Tuy nhiên, cơ quan này cũng đưa ra nhiều khả n...   \n",
       "14  Tuy nhiên, không loại trừ thân máy bay bị hỏng...   \n",
       "15  Một giả thiết khác theo Stratfor đó là máy bay...   \n",
       "16  Giả thiết này giống với giả thiết trong vụ máy...   \n",
       "17  Tuy không loại trừ bất cứ giả thiết nào dẫn đế...   \n",
       "18  Máy bay mang số hiệu MS804 của EgyptAir gặp nạ...   \n",
       "19  Theo thông tin từ giới chức Hy Lạp - quốc gia ...   \n",
       "\n",
       "                                            processed    doc  pos  \\\n",
       "0   hãng tin ria novosti nga dẫn nguồn tin trang a...  4.txt    1   \n",
       "1   trong bức ảnh ezeddin samar mặc đồng_phục egyp...  4.txt    2   \n",
       "2       vài tháng cô đăng bức ảnh cô xin làm egyptair  4.txt    3   \n",
       "3   ezeddin samar chính nữ tiếp_viên có_mặt chuyến...  4.txt    4   \n",
       "4   trùng_hợp ngẫu_nhiên làm xôn_xao dư_luận đặc_b...  4.txt    5   \n",
       "5   máy_bay a320 số_hiệu chuyến bay ms804 egyptair...  4.txt    6   \n",
       "6   biết phi_hành_đoàn chuyến bay gồm 2 phi_công 3...  4.txt    7   \n",
       "7   đáng nói thời_điểm máy_bay mất_tích ghi_nhận b...  4.txt    8   \n",
       "8   lời giới_chức hy lạp ở phút cuối cơ_quan kiểm_...  4.txt    9   \n",
       "9   ở độ cao hơn 11.000 m máy_bay bất_ngờ xoay ngo...  4.txt   10   \n",
       "10  giới chuyên_gia máy_bay tấn_công khủng_bố lẽ h...  4.txt   11   \n",
       "11  tấn_công_bằng tên_lửa đất đối hãng phân_tích t...  0.txt    1   \n",
       "12  một vụ tấn_công_bằng tên_lửa đất đối mặc_dù ph...  0.txt    2   \n",
       "13  tuy_nhiên cơ_quan đưa khả_năng khác nhau strat...  0.txt    3   \n",
       "14           tuy_nhiên loại_trừ thân máy_bay hỏng_hóc  0.txt    4   \n",
       "15  một giả_thiết khác stratfor máy_bay gài gom tự...  0.txt    5   \n",
       "16  giả_thiết giống giả_thiết trong vụ máy_bay chở...  0.txt    6   \n",
       "17  tuy loại_trừ bất_cứ giả_thiết nào dẫn đến mất_...  0.txt    7   \n",
       "18  máy_bay mang số_hiệu ms804 egyptair gặp nạn sá...  0.txt    8   \n",
       "19  thông_tin giới_chức hy lạp quốc_gia tham_gia đ...  0.txt    9   \n",
       "\n",
       "    centroid_score  pos_score  ovl_score  \n",
       "0        57.499456  10.000000   1.000000  \n",
       "1        57.347208   9.090909   0.094753  \n",
       "2         9.526153   8.181818   0.398392  \n",
       "3        23.288004   7.272727   0.139510  \n",
       "4        37.628865   6.363636   0.022897  \n",
       "5        84.791030   5.454545   0.016031  \n",
       "6        15.495350   4.545455   0.080183  \n",
       "7        26.275942   3.636364   0.000000  \n",
       "8        28.849550   2.727273   0.030155  \n",
       "9        28.849550   1.818182   0.000000  \n",
       "10       66.706541   0.909091   0.000000  \n",
       "11       52.932102  10.000000   1.000000  \n",
       "12       85.369477   9.333333   0.418068  \n",
       "13       38.911790   8.666667   0.035880  \n",
       "14       18.787310   8.000000   0.017398  \n",
       "15       34.999003   7.333333   0.126636  \n",
       "16       57.197217   6.666667   0.043131  \n",
       "17       69.767922   6.000000   0.048446  \n",
       "18      118.253556   5.333333   0.027387  \n",
       "19       46.584299   4.666667   0.019464  "
      ],
      "text/html": "<div>\n<style scoped>\n    .dataframe tbody tr th:only-of-type {\n        vertical-align: middle;\n    }\n\n    .dataframe tbody tr th {\n        vertical-align: top;\n    }\n\n    .dataframe thead th {\n        text-align: right;\n    }\n</style>\n<table border=\"1\" class=\"dataframe\">\n  <thead>\n    <tr style=\"text-align: right;\">\n      <th></th>\n      <th>raw</th>\n      <th>processed</th>\n      <th>doc</th>\n      <th>pos</th>\n      <th>centroid_score</th>\n      <th>pos_score</th>\n      <th>ovl_score</th>\n    </tr>\n  </thead>\n  <tbody>\n    <tr>\n      <th>0</th>\n      <td>Hãng tin RIA Novosti của Nga dẫn nguồn tin từ ...</td>\n      <td>hãng tin ria novosti nga dẫn nguồn tin trang a...</td>\n      <td>4.txt</td>\n      <td>1</td>\n      <td>57.499456</td>\n      <td>10.000000</td>\n      <td>1.000000</td>\n    </tr>\n    <tr>\n      <th>1</th>\n      <td>Trong bức ảnh này, Ezeddin Samar mặc đồng phục...</td>\n      <td>trong bức ảnh ezeddin samar mặc đồng_phục egyp...</td>\n      <td>4.txt</td>\n      <td>2</td>\n      <td>57.347208</td>\n      <td>9.090909</td>\n      <td>0.094753</td>\n    </tr>\n    <tr>\n      <th>2</th>\n      <td>Chỉ vài tháng sau khi cô đăng bức ảnh này, cô ...</td>\n      <td>vài tháng cô đăng bức ảnh cô xin làm egyptair</td>\n      <td>4.txt</td>\n      <td>3</td>\n      <td>9.526153</td>\n      <td>8.181818</td>\n      <td>0.398392</td>\n    </tr>\n    <tr>\n      <th>3</th>\n      <td>Ezeddin Samar cũng chính là nữ tiếp viên có mặ...</td>\n      <td>ezeddin samar chính nữ tiếp_viên có_mặt chuyến...</td>\n      <td>4.txt</td>\n      <td>4</td>\n      <td>23.288004</td>\n      <td>7.272727</td>\n      <td>0.139510</td>\n    </tr>\n    <tr>\n      <th>4</th>\n      <td>Sự trùng hợp ngẫu nhiên này đang làm xôn xao d...</td>\n      <td>trùng_hợp ngẫu_nhiên làm xôn_xao dư_luận đặc_b...</td>\n      <td>4.txt</td>\n      <td>5</td>\n      <td>37.628865</td>\n      <td>6.363636</td>\n      <td>0.022897</td>\n    </tr>\n    <tr>\n      <th>5</th>\n      <td>Máy bay A320 với số hiệu chuyến bay MS804 của ...</td>\n      <td>máy_bay a320 số_hiệu chuyến bay ms804 egyptair...</td>\n      <td>4.txt</td>\n      <td>6</td>\n      <td>84.791030</td>\n      <td>5.454545</td>\n      <td>0.016031</td>\n    </tr>\n    <tr>\n      <th>6</th>\n      <td>Được biết, phi hành đoàn trên chuyến bay gồm 2...</td>\n      <td>biết phi_hành_đoàn chuyến bay gồm 2 phi_công 3...</td>\n      <td>4.txt</td>\n      <td>7</td>\n      <td>15.495350</td>\n      <td>4.545455</td>\n      <td>0.080183</td>\n    </tr>\n    <tr>\n      <th>7</th>\n      <td>Điều đáng nói là thời điểm máy bay mất tích kh...</td>\n      <td>đáng nói thời_điểm máy_bay mất_tích ghi_nhận b...</td>\n      <td>4.txt</td>\n      <td>8</td>\n      <td>26.275942</td>\n      <td>3.636364</td>\n      <td>0.000000</td>\n    </tr>\n    <tr>\n      <th>8</th>\n      <td>Theo lời giới chức Hy Lạp, ở những phút cuối, ...</td>\n      <td>lời giới_chức hy lạp ở phút cuối cơ_quan kiểm_...</td>\n      <td>4.txt</td>\n      <td>9</td>\n      <td>28.849550</td>\n      <td>2.727273</td>\n      <td>0.030155</td>\n    </tr>\n    <tr>\n      <th>9</th>\n      <td>Ở độ cao hơn 11.000m, máy bay bất ngờ xoay ngo...</td>\n      <td>ở độ cao hơn 11.000 m máy_bay bất_ngờ xoay ngo...</td>\n      <td>4.txt</td>\n      <td>10</td>\n      <td>28.849550</td>\n      <td>1.818182</td>\n      <td>0.000000</td>\n    </tr>\n    <tr>\n      <th>10</th>\n      <td>Giới chuyên gia cho rằng, máy bay có thể đã bị...</td>\n      <td>giới chuyên_gia máy_bay tấn_công khủng_bố lẽ h...</td>\n      <td>4.txt</td>\n      <td>11</td>\n      <td>66.706541</td>\n      <td>0.909091</td>\n      <td>0.000000</td>\n    </tr>\n    <tr>\n      <th>11</th>\n      <td>Có thể bị tấn công bằng tên lửa đất đối không ...</td>\n      <td>tấn_công_bằng tên_lửa đất đối hãng phân_tích t...</td>\n      <td>0.txt</td>\n      <td>1</td>\n      <td>52.932102</td>\n      <td>10.000000</td>\n      <td>1.000000</td>\n    </tr>\n    <tr>\n      <th>12</th>\n      <td>“Đây vẫn có thể là một vụ tấn công bằng tên lử...</td>\n      <td>một vụ tấn_công_bằng tên_lửa đất đối mặc_dù ph...</td>\n      <td>0.txt</td>\n      <td>2</td>\n      <td>85.369477</td>\n      <td>9.333333</td>\n      <td>0.418068</td>\n    </tr>\n    <tr>\n      <th>13</th>\n      <td>Tuy nhiên, cơ quan này cũng đưa ra nhiều khả n...</td>\n      <td>tuy_nhiên cơ_quan đưa khả_năng khác nhau strat...</td>\n      <td>0.txt</td>\n      <td>3</td>\n      <td>38.911790</td>\n      <td>8.666667</td>\n      <td>0.035880</td>\n    </tr>\n    <tr>\n      <th>14</th>\n      <td>Tuy nhiên, không loại trừ thân máy bay bị hỏng...</td>\n      <td>tuy_nhiên loại_trừ thân máy_bay hỏng_hóc</td>\n      <td>0.txt</td>\n      <td>4</td>\n      <td>18.787310</td>\n      <td>8.000000</td>\n      <td>0.017398</td>\n    </tr>\n    <tr>\n      <th>15</th>\n      <td>Một giả thiết khác theo Stratfor đó là máy bay...</td>\n      <td>một giả_thiết khác stratfor máy_bay gài gom tự...</td>\n      <td>0.txt</td>\n      <td>5</td>\n      <td>34.999003</td>\n      <td>7.333333</td>\n      <td>0.126636</td>\n    </tr>\n    <tr>\n      <th>16</th>\n      <td>Giả thiết này giống với giả thiết trong vụ máy...</td>\n      <td>giả_thiết giống giả_thiết trong vụ máy_bay chở...</td>\n      <td>0.txt</td>\n      <td>6</td>\n      <td>57.197217</td>\n      <td>6.666667</td>\n      <td>0.043131</td>\n    </tr>\n    <tr>\n      <th>17</th>\n      <td>Tuy không loại trừ bất cứ giả thiết nào dẫn đế...</td>\n      <td>tuy loại_trừ bất_cứ giả_thiết nào dẫn đến mất_...</td>\n      <td>0.txt</td>\n      <td>7</td>\n      <td>69.767922</td>\n      <td>6.000000</td>\n      <td>0.048446</td>\n    </tr>\n    <tr>\n      <th>18</th>\n      <td>Máy bay mang số hiệu MS804 của EgyptAir gặp nạ...</td>\n      <td>máy_bay mang số_hiệu ms804 egyptair gặp nạn sá...</td>\n      <td>0.txt</td>\n      <td>8</td>\n      <td>118.253556</td>\n      <td>5.333333</td>\n      <td>0.027387</td>\n    </tr>\n    <tr>\n      <th>19</th>\n      <td>Theo thông tin từ giới chức Hy Lạp - quốc gia ...</td>\n      <td>thông_tin giới_chức hy lạp quốc_gia tham_gia đ...</td>\n      <td>0.txt</td>\n      <td>9</td>\n      <td>46.584299</td>\n      <td>4.666667</td>\n      <td>0.019464</td>\n    </tr>\n  </tbody>\n</table>\n</div>"
     },
     "metadata": {},
     "execution_count": 20
    }
   ],
   "source": [
    "data_frame.head(20)"
   ]
  }
 ],
 "metadata": {
  "kernelspec": {
   "display_name": "Python 3",
   "language": "python",
   "name": "python3"
  },
  "language_info": {
   "codemirror_mode": {
    "name": "ipython",
    "version": 3
   },
   "file_extension": ".py",
   "mimetype": "text/x-python",
   "name": "python",
   "nbconvert_exporter": "python",
   "pygments_lexer": "ipython3",
   "version": "3.7.9-final"
  }
 },
 "nbformat": 4,
 "nbformat_minor": 4
}