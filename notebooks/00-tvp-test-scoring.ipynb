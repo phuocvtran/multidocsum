{
 "cells": [
  {
   "cell_type": "code",
   "execution_count": 1,
   "metadata": {},
   "outputs": [
    {
     "name": "stdout",
     "output_type": "stream",
     "text": [
      "Processing /mnt/HQ/uni/text-mining/proj\n",
      "Building wheels for collected packages: multidoc-dev\n",
      "  Building wheel for multidoc-dev (setup.py) ... \u001b[?25ldone\n",
      "\u001b[?25h  Created wheel for multidoc-dev: filename=multidoc_dev-0.0.0-py3-none-any.whl size=6275 sha256=765d689df8c636a93fef087af70a58b04b5d8ca2d69a5158fc39eed207e62274\n",
      "  Stored in directory: /tmp/pip-ephem-wheel-cache-uy743elc/wheels/5b/5c/af/cdb4e45c07089112acb0b66661de457b84391376acd0332c24\n",
      "Successfully built multidoc-dev\n",
      "Installing collected packages: multidoc-dev\n",
      "  Attempting uninstall: multidoc-dev\n",
      "    Found existing installation: multidoc-dev 0.0.0\n",
      "    Uninstalling multidoc-dev-0.0.0:\n",
      "      Successfully uninstalled multidoc-dev-0.0.0\n",
      "Successfully installed multidoc-dev-0.0.0\n"
     ]
    }
   ],
   "source": [
    "!pip install .."
   ]
  },
  {
   "cell_type": "code",
   "execution_count": 2,
   "metadata": {},
   "outputs": [],
   "source": [
    "from src.data.data_io import DataIO\n",
    "from src.features.utils import Utils\n",
    "from src.data.text_processing import TextProcessor\n",
    "import pandas as pd\n",
    "from sklearn.feature_extraction.text import TfidfVectorizer\n",
    "from typing import Dict, List, Callable"
   ]
  },
  {
   "cell_type": "code",
   "execution_count": 3,
   "metadata": {},
   "outputs": [],
   "source": [
    "data = DataIO.load('../data/raw/ViMs/original/Cluster_001/original')"
   ]
  },
  {
   "cell_type": "code",
   "execution_count": 4,
   "metadata": {},
   "outputs": [],
   "source": [
    "processed_data, data = Utils.preprocess(data, \n",
    "                                        stop_words_path='../data/external/stopwords.txt', \n",
    "                                        punc_path='../data/external/punctuation.txt')"
   ]
  },
  {
   "cell_type": "code",
   "execution_count": 5,
   "metadata": {},
   "outputs": [],
   "source": [
    "data_frame = Utils.get_dataframe(data, processed_data)"
   ]
  },
  {
   "cell_type": "code",
   "execution_count": 6,
   "metadata": {},
   "outputs": [
    {
     "data": {
      "text/html": [
       "<div>\n",
       "<style scoped>\n",
       "    .dataframe tbody tr th:only-of-type {\n",
       "        vertical-align: middle;\n",
       "    }\n",
       "\n",
       "    .dataframe tbody tr th {\n",
       "        vertical-align: top;\n",
       "    }\n",
       "\n",
       "    .dataframe thead th {\n",
       "        text-align: right;\n",
       "    }\n",
       "</style>\n",
       "<table border=\"1\" class=\"dataframe\">\n",
       "  <thead>\n",
       "    <tr style=\"text-align: right;\">\n",
       "      <th></th>\n",
       "      <th>raw</th>\n",
       "      <th>processed</th>\n",
       "      <th>doc</th>\n",
       "      <th>pos</th>\n",
       "    </tr>\n",
       "  </thead>\n",
       "  <tbody>\n",
       "    <tr>\n",
       "      <th>0</th>\n",
       "      <td>Có thể bị tấn công bằng tên lửa đất đối không ...</td>\n",
       "      <td>tấn_công_bằng tên_lửa đất đối hãng phân_tích t...</td>\n",
       "      <td>4.txt</td>\n",
       "      <td>1</td>\n",
       "    </tr>\n",
       "    <tr>\n",
       "      <th>1</th>\n",
       "      <td>“Đây vẫn có thể là một vụ tấn công bằng tên lử...</td>\n",
       "      <td>một vụ tấn_công_bằng tên_lửa đất đối mặc_dù ph...</td>\n",
       "      <td>4.txt</td>\n",
       "      <td>2</td>\n",
       "    </tr>\n",
       "    <tr>\n",
       "      <th>2</th>\n",
       "      <td>Tuy nhiên, cơ quan này cũng đưa ra nhiều khả n...</td>\n",
       "      <td>tuy_nhiên cơ_quan đưa khả_năng khác nhau strat...</td>\n",
       "      <td>4.txt</td>\n",
       "      <td>3</td>\n",
       "    </tr>\n",
       "    <tr>\n",
       "      <th>3</th>\n",
       "      <td>Tuy nhiên, không loại trừ thân máy bay bị hỏng...</td>\n",
       "      <td>tuy_nhiên loại_trừ thân máy_bay hỏng_hóc</td>\n",
       "      <td>4.txt</td>\n",
       "      <td>4</td>\n",
       "    </tr>\n",
       "    <tr>\n",
       "      <th>4</th>\n",
       "      <td>Một giả thiết khác theo Stratfor đó là máy bay...</td>\n",
       "      <td>một giả_thiết khác stratfor máy_bay gài gom tự...</td>\n",
       "      <td>4.txt</td>\n",
       "      <td>5</td>\n",
       "    </tr>\n",
       "  </tbody>\n",
       "</table>\n",
       "</div>"
      ],
      "text/plain": [
       "                                                 raw  \\\n",
       "0  Có thể bị tấn công bằng tên lửa đất đối không ...   \n",
       "1  “Đây vẫn có thể là một vụ tấn công bằng tên lử...   \n",
       "2  Tuy nhiên, cơ quan này cũng đưa ra nhiều khả n...   \n",
       "3  Tuy nhiên, không loại trừ thân máy bay bị hỏng...   \n",
       "4  Một giả thiết khác theo Stratfor đó là máy bay...   \n",
       "\n",
       "                                           processed    doc  pos  \n",
       "0  tấn_công_bằng tên_lửa đất đối hãng phân_tích t...  4.txt    1  \n",
       "1  một vụ tấn_công_bằng tên_lửa đất đối mặc_dù ph...  4.txt    2  \n",
       "2  tuy_nhiên cơ_quan đưa khả_năng khác nhau strat...  4.txt    3  \n",
       "3           tuy_nhiên loại_trừ thân máy_bay hỏng_hóc  4.txt    4  \n",
       "4  một giả_thiết khác stratfor máy_bay gài gom tự...  4.txt    5  "
      ]
     },
     "execution_count": 6,
     "metadata": {},
     "output_type": "execute_result"
    }
   ],
   "source": [
    "data_frame.head()"
   ]
  },
  {
   "cell_type": "code",
   "execution_count": 7,
   "metadata": {},
   "outputs": [],
   "source": [
    "centroids = Utils.get_centroid(data_frame.processed.to_list(), data_frame.doc.to_list(), n_centroid=20)"
   ]
  },
  {
   "cell_type": "code",
   "execution_count": 8,
   "metadata": {
    "scrolled": true
   },
   "outputs": [
    {
     "data": {
      "text/plain": [
       "[('máy_bay', 18.787309629686725),\n",
       " ('một', 16.211693435288918),\n",
       " ('người', 15.166167878883408),\n",
       " ('cập', 13.476383583249497),\n",
       " ('trong', 12.822051436411856),\n",
       " ('ở', 10.062240110923737),\n",
       " ('ai', 9.650938929191689),\n",
       " ('egyptair', 9.526153337277291),\n",
       " ('khủng_bố', 9.007441501631122),\n",
       " ('pháp', 8.49996245602853),\n",
       " ('hãng', 8.40694540152238),\n",
       " ('ms804', 8.208596237021698),\n",
       " ('biết', 7.904574154169042),\n",
       " ('thấy', 7.809107829179073),\n",
       " ('chuyến', 7.590775561485328),\n",
       " ('đến', 7.488632486880218),\n",
       " ('mất_tích', 7.488632486880218),\n",
       " ('vụ', 7.118670855294799),\n",
       " ('ngày', 7.043144613501353),\n",
       " ('mảnh', 6.698884424185685)]"
      ]
     },
     "execution_count": 8,
     "metadata": {},
     "output_type": "execute_result"
    }
   ],
   "source": [
    "centroids"
   ]
  },
  {
   "cell_type": "code",
   "execution_count": 9,
   "metadata": {},
   "outputs": [],
   "source": [
    "from src.features.scoring import Scorer"
   ]
  },
  {
   "cell_type": "code",
   "execution_count": 10,
   "metadata": {},
   "outputs": [],
   "source": [
    "cent_score = Scorer.get_centroid_score(data_frame.processed.to_list(), centroids)"
   ]
  },
  {
   "cell_type": "code",
   "execution_count": 11,
   "metadata": {},
   "outputs": [],
   "source": [
    "data_frame['centroid_score'] = cent_score"
   ]
  },
  {
   "cell_type": "code",
   "execution_count": 17,
   "metadata": {},
   "outputs": [],
   "source": [
    "pos_score = Scorer.get_pos_score(data_frame.doc.to_list(), data_frame.pos.to_list())"
   ]
  },
  {
   "cell_type": "code",
   "execution_count": 18,
   "metadata": {},
   "outputs": [],
   "source": [
    "data_frame['pos_score'] = pos_score"
   ]
  },
  {
   "cell_type": "code",
   "execution_count": 19,
   "metadata": {},
   "outputs": [
    {
     "data": {
      "text/html": [
       "<div>\n",
       "<style scoped>\n",
       "    .dataframe tbody tr th:only-of-type {\n",
       "        vertical-align: middle;\n",
       "    }\n",
       "\n",
       "    .dataframe tbody tr th {\n",
       "        vertical-align: top;\n",
       "    }\n",
       "\n",
       "    .dataframe thead th {\n",
       "        text-align: right;\n",
       "    }\n",
       "</style>\n",
       "<table border=\"1\" class=\"dataframe\">\n",
       "  <thead>\n",
       "    <tr style=\"text-align: right;\">\n",
       "      <th></th>\n",
       "      <th>raw</th>\n",
       "      <th>processed</th>\n",
       "      <th>doc</th>\n",
       "      <th>pos</th>\n",
       "      <th>centroid_score</th>\n",
       "      <th>pos_score</th>\n",
       "    </tr>\n",
       "  </thead>\n",
       "  <tbody>\n",
       "    <tr>\n",
       "      <th>0</th>\n",
       "      <td>Có thể bị tấn công bằng tên lửa đất đối không ...</td>\n",
       "      <td>tấn_công_bằng tên_lửa đất đối hãng phân_tích t...</td>\n",
       "      <td>4.txt</td>\n",
       "      <td>1</td>\n",
       "      <td>52.932102</td>\n",
       "      <td>9.333333</td>\n",
       "    </tr>\n",
       "    <tr>\n",
       "      <th>1</th>\n",
       "      <td>“Đây vẫn có thể là một vụ tấn công bằng tên lử...</td>\n",
       "      <td>một vụ tấn_công_bằng tên_lửa đất đối mặc_dù ph...</td>\n",
       "      <td>4.txt</td>\n",
       "      <td>2</td>\n",
       "      <td>85.369477</td>\n",
       "      <td>8.666667</td>\n",
       "    </tr>\n",
       "    <tr>\n",
       "      <th>2</th>\n",
       "      <td>Tuy nhiên, cơ quan này cũng đưa ra nhiều khả n...</td>\n",
       "      <td>tuy_nhiên cơ_quan đưa khả_năng khác nhau strat...</td>\n",
       "      <td>4.txt</td>\n",
       "      <td>3</td>\n",
       "      <td>38.911790</td>\n",
       "      <td>8.000000</td>\n",
       "    </tr>\n",
       "    <tr>\n",
       "      <th>3</th>\n",
       "      <td>Tuy nhiên, không loại trừ thân máy bay bị hỏng...</td>\n",
       "      <td>tuy_nhiên loại_trừ thân máy_bay hỏng_hóc</td>\n",
       "      <td>4.txt</td>\n",
       "      <td>4</td>\n",
       "      <td>18.787310</td>\n",
       "      <td>7.333333</td>\n",
       "    </tr>\n",
       "    <tr>\n",
       "      <th>4</th>\n",
       "      <td>Một giả thiết khác theo Stratfor đó là máy bay...</td>\n",
       "      <td>một giả_thiết khác stratfor máy_bay gài gom tự...</td>\n",
       "      <td>4.txt</td>\n",
       "      <td>5</td>\n",
       "      <td>34.999003</td>\n",
       "      <td>6.666667</td>\n",
       "    </tr>\n",
       "    <tr>\n",
       "      <th>...</th>\n",
       "      <td>...</td>\n",
       "      <td>...</td>\n",
       "      <td>...</td>\n",
       "      <td>...</td>\n",
       "      <td>...</td>\n",
       "      <td>...</td>\n",
       "    </tr>\n",
       "    <tr>\n",
       "      <th>195</th>\n",
       "      <td>Mẹ của một tiếp viên hàng không trên chiếc máy...</td>\n",
       "      <td>mẹ một tiếp_viên hàng máy_bay mất_tích chạy đế...</td>\n",
       "      <td>9.txt</td>\n",
       "      <td>15</td>\n",
       "      <td>49.976268</td>\n",
       "      <td>2.105263</td>\n",
       "    </tr>\n",
       "    <tr>\n",
       "      <th>196</th>\n",
       "      <td>Bà cho biết lần cuối cùng con gái gọi điện tho...</td>\n",
       "      <td>bà biết lần cuối_cùng con gái_gọi điện_thoại b...</td>\n",
       "      <td>9.txt</td>\n",
       "      <td>16</td>\n",
       "      <td>7.904574</td>\n",
       "      <td>1.578947</td>\n",
       "    </tr>\n",
       "    <tr>\n",
       "      <th>197</th>\n",
       "      <td>“Chính quyền chẳng thông báo cho chúng tôi biế...</td>\n",
       "      <td>chính_quyền chẳng thông_báo chúng_tôi biết bất...</td>\n",
       "      <td>9.txt</td>\n",
       "      <td>17</td>\n",
       "      <td>23.070742</td>\n",
       "      <td>1.052632</td>\n",
       "    </tr>\n",
       "    <tr>\n",
       "      <th>198</th>\n",
       "      <td>Một số thân nhân hành khách định xông tới đánh...</td>\n",
       "      <td>một_số thân_nhân hành_khách định xông tới đánh...</td>\n",
       "      <td>9.txt</td>\n",
       "      <td>18</td>\n",
       "      <td>40.904015</td>\n",
       "      <td>0.526316</td>\n",
       "    </tr>\n",
       "    <tr>\n",
       "      <th>199</th>\n",
       "      <td>Người này định chụp một số ảnh về thân nhân hà...</td>\n",
       "      <td>người định chụp một_số ảnh về thân_nhân hành_k...</td>\n",
       "      <td>9.txt</td>\n",
       "      <td>19</td>\n",
       "      <td>15.166168</td>\n",
       "      <td>0.000000</td>\n",
       "    </tr>\n",
       "  </tbody>\n",
       "</table>\n",
       "<p>200 rows × 6 columns</p>\n",
       "</div>"
      ],
      "text/plain": [
       "                                                   raw  \\\n",
       "0    Có thể bị tấn công bằng tên lửa đất đối không ...   \n",
       "1    “Đây vẫn có thể là một vụ tấn công bằng tên lử...   \n",
       "2    Tuy nhiên, cơ quan này cũng đưa ra nhiều khả n...   \n",
       "3    Tuy nhiên, không loại trừ thân máy bay bị hỏng...   \n",
       "4    Một giả thiết khác theo Stratfor đó là máy bay...   \n",
       "..                                                 ...   \n",
       "195  Mẹ của một tiếp viên hàng không trên chiếc máy...   \n",
       "196  Bà cho biết lần cuối cùng con gái gọi điện tho...   \n",
       "197  “Chính quyền chẳng thông báo cho chúng tôi biế...   \n",
       "198  Một số thân nhân hành khách định xông tới đánh...   \n",
       "199  Người này định chụp một số ảnh về thân nhân hà...   \n",
       "\n",
       "                                             processed    doc  pos  \\\n",
       "0    tấn_công_bằng tên_lửa đất đối hãng phân_tích t...  4.txt    1   \n",
       "1    một vụ tấn_công_bằng tên_lửa đất đối mặc_dù ph...  4.txt    2   \n",
       "2    tuy_nhiên cơ_quan đưa khả_năng khác nhau strat...  4.txt    3   \n",
       "3             tuy_nhiên loại_trừ thân máy_bay hỏng_hóc  4.txt    4   \n",
       "4    một giả_thiết khác stratfor máy_bay gài gom tự...  4.txt    5   \n",
       "..                                                 ...    ...  ...   \n",
       "195  mẹ một tiếp_viên hàng máy_bay mất_tích chạy đế...  9.txt   15   \n",
       "196  bà biết lần cuối_cùng con gái_gọi điện_thoại b...  9.txt   16   \n",
       "197  chính_quyền chẳng thông_báo chúng_tôi biết bất...  9.txt   17   \n",
       "198  một_số thân_nhân hành_khách định xông tới đánh...  9.txt   18   \n",
       "199  người định chụp một_số ảnh về thân_nhân hành_k...  9.txt   19   \n",
       "\n",
       "     centroid_score  pos_score  \n",
       "0         52.932102   9.333333  \n",
       "1         85.369477   8.666667  \n",
       "2         38.911790   8.000000  \n",
       "3         18.787310   7.333333  \n",
       "4         34.999003   6.666667  \n",
       "..              ...        ...  \n",
       "195       49.976268   2.105263  \n",
       "196        7.904574   1.578947  \n",
       "197       23.070742   1.052632  \n",
       "198       40.904015   0.526316  \n",
       "199       15.166168   0.000000  \n",
       "\n",
       "[200 rows x 6 columns]"
      ]
     },
     "execution_count": 19,
     "metadata": {},
     "output_type": "execute_result"
    }
   ],
   "source": [
    "data_frame"
   ]
  }
 ],
 "metadata": {
  "kernelspec": {
   "display_name": "Python 3",
   "language": "python",
   "name": "python3"
  },
  "language_info": {
   "codemirror_mode": {
    "name": "ipython",
    "version": 3
   },
   "file_extension": ".py",
   "mimetype": "text/x-python",
   "name": "python",
   "nbconvert_exporter": "python",
   "pygments_lexer": "ipython3",
   "version": "3.7.9"
  }
 },
 "nbformat": 4,
 "nbformat_minor": 4
}
