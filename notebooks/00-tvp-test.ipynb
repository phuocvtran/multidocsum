{
 "cells": [
  {
   "cell_type": "code",
   "execution_count": 1,
   "metadata": {},
   "outputs": [
    {
     "name": "stdout",
     "output_type": "stream",
     "text": [
      "Processing /mnt/HQ/uni/text-mining/proj\n",
      "Building wheels for collected packages: multidoc-dev\n",
      "  Building wheel for multidoc-dev (setup.py) ... \u001b[?25ldone\n",
      "\u001b[?25h  Created wheel for multidoc-dev: filename=multidoc_dev-0.0.0-py3-none-any.whl size=5523 sha256=94ee546a7771dfd99609e5e3e306ffa7875371eaa49648f55b2ed7295a47af84\n",
      "  Stored in directory: /tmp/pip-ephem-wheel-cache-4q59ruqm/wheels/5b/5c/af/cdb4e45c07089112acb0b66661de457b84391376acd0332c24\n",
      "Successfully built multidoc-dev\n",
      "Installing collected packages: multidoc-dev\n",
      "  Attempting uninstall: multidoc-dev\n",
      "    Found existing installation: multidoc-dev 0.0.0\n",
      "    Uninstalling multidoc-dev-0.0.0:\n",
      "      Successfully uninstalled multidoc-dev-0.0.0\n",
      "Successfully installed multidoc-dev-0.0.0\n"
     ]
    }
   ],
   "source": [
    "!pip install .."
   ]
  },
  {
   "cell_type": "code",
   "execution_count": 2,
   "metadata": {},
   "outputs": [],
   "source": [
    "from src.data.data_io import DataIO\n",
    "from src.features.utils import Utils\n",
    "from src.data.text_processing import TextProcessor\n",
    "import pandas as pd\n",
    "from sklearn.feature_extraction.text import TfidfVectorizer\n",
    "from typing import Dict, List, Callable"
   ]
  },
  {
   "cell_type": "code",
   "execution_count": 10,
   "metadata": {},
   "outputs": [],
   "source": [
    "data = DataIO.load('../data/raw/ViMs/original/Cluster_001/original')"
   ]
  },
  {
   "cell_type": "code",
   "execution_count": 11,
   "metadata": {},
   "outputs": [],
   "source": [
    "processed_data, data = Utils.preprocess(data, \n",
    "                                        stop_words_path='../data/external/stopwords.txt', \n",
    "                                        punc_path='../data/external/punctuation.txt')"
   ]
  },
  {
   "cell_type": "code",
   "execution_count": 12,
   "metadata": {},
   "outputs": [],
   "source": [
    "data_frame = Utils.get_dataframe(data, processed_data)"
   ]
  },
  {
   "cell_type": "code",
   "execution_count": 13,
   "metadata": {},
   "outputs": [
    {
     "data": {
      "text/html": [
       "<div>\n",
       "<style scoped>\n",
       "    .dataframe tbody tr th:only-of-type {\n",
       "        vertical-align: middle;\n",
       "    }\n",
       "\n",
       "    .dataframe tbody tr th {\n",
       "        vertical-align: top;\n",
       "    }\n",
       "\n",
       "    .dataframe thead th {\n",
       "        text-align: right;\n",
       "    }\n",
       "</style>\n",
       "<table border=\"1\" class=\"dataframe\">\n",
       "  <thead>\n",
       "    <tr style=\"text-align: right;\">\n",
       "      <th></th>\n",
       "      <th>raw</th>\n",
       "      <th>processed</th>\n",
       "      <th>doc</th>\n",
       "      <th>pos</th>\n",
       "    </tr>\n",
       "  </thead>\n",
       "  <tbody>\n",
       "    <tr>\n",
       "      <th>0</th>\n",
       "      <td>Có thể bị tấn công bằng tên lửa đất đối không ...</td>\n",
       "      <td>tấn_công_bằng tên_lửa đất đối hãng phân_tích t...</td>\n",
       "      <td>4.txt</td>\n",
       "      <td>1</td>\n",
       "    </tr>\n",
       "    <tr>\n",
       "      <th>1</th>\n",
       "      <td>“Đây vẫn có thể là một vụ tấn công bằng tên lử...</td>\n",
       "      <td>một vụ tấn_công_bằng tên_lửa đất đối mặc_dù ph...</td>\n",
       "      <td>4.txt</td>\n",
       "      <td>2</td>\n",
       "    </tr>\n",
       "    <tr>\n",
       "      <th>2</th>\n",
       "      <td>Tuy nhiên, cơ quan này cũng đưa ra nhiều khả n...</td>\n",
       "      <td>tuy_nhiên cơ_quan đưa khả_năng khác nhau strat...</td>\n",
       "      <td>4.txt</td>\n",
       "      <td>3</td>\n",
       "    </tr>\n",
       "    <tr>\n",
       "      <th>3</th>\n",
       "      <td>Tuy nhiên, không loại trừ thân máy bay bị hỏng...</td>\n",
       "      <td>tuy_nhiên loại_trừ thân máy_bay hỏng_hóc</td>\n",
       "      <td>4.txt</td>\n",
       "      <td>4</td>\n",
       "    </tr>\n",
       "    <tr>\n",
       "      <th>4</th>\n",
       "      <td>Một giả thiết khác theo Stratfor đó là máy bay...</td>\n",
       "      <td>một giả_thiết khác stratfor máy_bay gài gom tự...</td>\n",
       "      <td>4.txt</td>\n",
       "      <td>5</td>\n",
       "    </tr>\n",
       "    <tr>\n",
       "      <th>...</th>\n",
       "      <td>...</td>\n",
       "      <td>...</td>\n",
       "      <td>...</td>\n",
       "      <td>...</td>\n",
       "    </tr>\n",
       "    <tr>\n",
       "      <th>195</th>\n",
       "      <td>Mẹ của một tiếp viên hàng không trên chiếc máy...</td>\n",
       "      <td>mẹ một tiếp_viên hàng máy_bay mất_tích chạy đế...</td>\n",
       "      <td>9.txt</td>\n",
       "      <td>15</td>\n",
       "    </tr>\n",
       "    <tr>\n",
       "      <th>196</th>\n",
       "      <td>Bà cho biết lần cuối cùng con gái gọi điện tho...</td>\n",
       "      <td>bà biết lần cuối_cùng con gái_gọi điện_thoại b...</td>\n",
       "      <td>9.txt</td>\n",
       "      <td>16</td>\n",
       "    </tr>\n",
       "    <tr>\n",
       "      <th>197</th>\n",
       "      <td>“Chính quyền chẳng thông báo cho chúng tôi biế...</td>\n",
       "      <td>chính_quyền chẳng thông_báo chúng_tôi biết bất...</td>\n",
       "      <td>9.txt</td>\n",
       "      <td>17</td>\n",
       "    </tr>\n",
       "    <tr>\n",
       "      <th>198</th>\n",
       "      <td>Một số thân nhân hành khách định xông tới đánh...</td>\n",
       "      <td>một_số thân_nhân hành_khách định xông tới đánh...</td>\n",
       "      <td>9.txt</td>\n",
       "      <td>18</td>\n",
       "    </tr>\n",
       "    <tr>\n",
       "      <th>199</th>\n",
       "      <td>Người này định chụp một số ảnh về thân nhân hà...</td>\n",
       "      <td>người định chụp một_số ảnh về thân_nhân hành_k...</td>\n",
       "      <td>9.txt</td>\n",
       "      <td>19</td>\n",
       "    </tr>\n",
       "  </tbody>\n",
       "</table>\n",
       "<p>200 rows × 4 columns</p>\n",
       "</div>"
      ],
      "text/plain": [
       "                                                   raw  \\\n",
       "0    Có thể bị tấn công bằng tên lửa đất đối không ...   \n",
       "1    “Đây vẫn có thể là một vụ tấn công bằng tên lử...   \n",
       "2    Tuy nhiên, cơ quan này cũng đưa ra nhiều khả n...   \n",
       "3    Tuy nhiên, không loại trừ thân máy bay bị hỏng...   \n",
       "4    Một giả thiết khác theo Stratfor đó là máy bay...   \n",
       "..                                                 ...   \n",
       "195  Mẹ của một tiếp viên hàng không trên chiếc máy...   \n",
       "196  Bà cho biết lần cuối cùng con gái gọi điện tho...   \n",
       "197  “Chính quyền chẳng thông báo cho chúng tôi biế...   \n",
       "198  Một số thân nhân hành khách định xông tới đánh...   \n",
       "199  Người này định chụp một số ảnh về thân nhân hà...   \n",
       "\n",
       "                                             processed    doc  pos  \n",
       "0    tấn_công_bằng tên_lửa đất đối hãng phân_tích t...  4.txt    1  \n",
       "1    một vụ tấn_công_bằng tên_lửa đất đối mặc_dù ph...  4.txt    2  \n",
       "2    tuy_nhiên cơ_quan đưa khả_năng khác nhau strat...  4.txt    3  \n",
       "3             tuy_nhiên loại_trừ thân máy_bay hỏng_hóc  4.txt    4  \n",
       "4    một giả_thiết khác stratfor máy_bay gài gom tự...  4.txt    5  \n",
       "..                                                 ...    ...  ...  \n",
       "195  mẹ một tiếp_viên hàng máy_bay mất_tích chạy đế...  9.txt   15  \n",
       "196  bà biết lần cuối_cùng con gái_gọi điện_thoại b...  9.txt   16  \n",
       "197  chính_quyền chẳng thông_báo chúng_tôi biết bất...  9.txt   17  \n",
       "198  một_số thân_nhân hành_khách định xông tới đánh...  9.txt   18  \n",
       "199  người định chụp một_số ảnh về thân_nhân hành_k...  9.txt   19  \n",
       "\n",
       "[200 rows x 4 columns]"
      ]
     },
     "execution_count": 13,
     "metadata": {},
     "output_type": "execute_result"
    }
   ],
   "source": [
    "data_frame.hea"
   ]
  },
  {
   "cell_type": "code",
   "execution_count": 6,
   "metadata": {},
   "outputs": [],
   "source": [
    "centroids = Utils.get_centroid(data_frame.processed.to_list())"
   ]
  },
  {
   "cell_type": "code",
   "execution_count": 7,
   "metadata": {},
   "outputs": [
    {
     "data": {
      "text/plain": [
       "[('cá', 1188.2520834889654),\n",
       " ('chết', 716.2428951542587),\n",
       " ('nguyên_nhân', 625.0839017373969),\n",
       " ('bộ', 616.3642550831349),\n",
       " ('biển', 576.8205708015373),\n",
       " ('hội', 559.1168183423279),\n",
       " ('nghề', 516.9506655535971),\n",
       " ('môi_trường', 485.02167256313754),\n",
       " ('nuôi', 464.3480412906377),\n",
       " ('xác_định', 463.1765472137518),\n",
       " ('tháng', 438.5792924302449),\n",
       " ('đến', 429.1946466195496),\n",
       " ('chính_phủ', 405.91077204552624),\n",
       " ('4', 378.13183802250757),\n",
       " ('ở', 347.7742304205912),\n",
       " ('gây', 346.9709496649729),\n",
       " ('mẫu', 321.4717208935184),\n",
       " ('lưu', 321.4717208935184),\n",
       " ('thể', 321.4717208935184),\n",
       " ('ven', 321.4717208935184)]"
      ]
     },
     "execution_count": 7,
     "metadata": {},
     "output_type": "execute_result"
    }
   ],
   "source": [
    "centroids"
   ]
  },
  {
   "cell_type": "code",
   "execution_count": 50,
   "metadata": {},
   "outputs": [
    {
     "data": {
      "text/plain": [
       "[('cá', 1188.2520834889654),\n",
       " ('chết', 716.2428951542587),\n",
       " ('nguyên_nhân', 625.0839017373969),\n",
       " ('bộ', 616.3642550831349),\n",
       " ('biển', 576.8205708015373),\n",
       " ('hội', 559.1168183423279),\n",
       " ('nghề', 516.9506655535971),\n",
       " ('môi_trường', 485.02167256313754),\n",
       " ('nuôi', 464.3480412906377),\n",
       " ('xác_định', 463.1765472137518),\n",
       " ('tháng', 438.5792924302449),\n",
       " ('đến', 429.1946466195496),\n",
       " ('chính_phủ', 405.91077204552624),\n",
       " ('4', 378.13183802250757),\n",
       " ('ở', 347.7742304205912),\n",
       " ('gây', 346.9709496649729),\n",
       " ('mẫu', 321.4717208935184),\n",
       " ('lưu', 321.4717208935184),\n",
       " ('thể', 321.4717208935184),\n",
       " ('ven', 321.4717208935184)]"
      ]
     },
     "execution_count": 50,
     "metadata": {},
     "output_type": "execute_result"
    }
   ],
   "source": [
    "list(sorted_dict.items())[:20]"
   ]
  },
  {
   "cell_type": "code",
   "execution_count": 51,
   "metadata": {},
   "outputs": [
    {
     "data": {
      "text/plain": [
       "tuple"
      ]
     },
     "execution_count": 51,
     "metadata": {},
     "output_type": "execute_result"
    }
   ],
   "source": [
    "type(list(sorted_dict.items())[20])"
   ]
  }
 ],
 "metadata": {
  "kernelspec": {
   "display_name": "Python 3",
   "language": "python",
   "name": "python3"
  },
  "language_info": {
   "codemirror_mode": {
    "name": "ipython",
    "version": 3
   },
   "file_extension": ".py",
   "mimetype": "text/x-python",
   "name": "python",
   "nbconvert_exporter": "python",
   "pygments_lexer": "ipython3",
   "version": "3.7.9"
  }
 },
 "nbformat": 4,
 "nbformat_minor": 2
}
