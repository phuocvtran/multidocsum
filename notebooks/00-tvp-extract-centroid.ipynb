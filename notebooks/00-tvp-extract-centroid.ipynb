{
 "cells": [
  {
   "cell_type": "code",
   "execution_count": 1,
   "metadata": {},
   "outputs": [
    {
     "name": "stdout",
     "output_type": "stream",
     "text": [
      "Processing /mnt/HQ/uni/text-mining/proj\n",
      "Building wheels for collected packages: multidoc-dev\n",
      "  Building wheel for multidoc-dev (setup.py) ... \u001b[?25ldone\n",
      "\u001b[?25h  Created wheel for multidoc-dev: filename=multidoc_dev-0.0.0-py3-none-any.whl size=5585 sha256=5c74e4640e2e44022f9b1e75b9d68c31c8bc2fcac678a29fda9dfa4674424a71\n",
      "  Stored in directory: /tmp/pip-ephem-wheel-cache-_r5vsozw/wheels/5b/5c/af/cdb4e45c07089112acb0b66661de457b84391376acd0332c24\n",
      "Successfully built multidoc-dev\n",
      "Installing collected packages: multidoc-dev\n",
      "  Attempting uninstall: multidoc-dev\n",
      "    Found existing installation: multidoc-dev 0.0.0\n",
      "    Uninstalling multidoc-dev-0.0.0:\n",
      "      Successfully uninstalled multidoc-dev-0.0.0\n",
      "Successfully installed multidoc-dev-0.0.0\n"
     ]
    }
   ],
   "source": [
    "!pip install .."
   ]
  },
  {
   "cell_type": "code",
   "execution_count": 2,
   "metadata": {},
   "outputs": [],
   "source": [
    "from src.data.data_io import DataIO\n",
    "from src.features.utils import Utils\n",
    "from src.data.text_processing import TextProcessor\n",
    "import pandas as pd\n",
    "from sklearn.feature_extraction.text import TfidfVectorizer\n",
    "from typing import Dict, List, Callable"
   ]
  },
  {
   "cell_type": "code",
   "execution_count": 3,
   "metadata": {},
   "outputs": [],
   "source": [
    "data = DataIO.load('../data/raw/ViMs/original/Cluster_003/original')"
   ]
  },
  {
   "cell_type": "code",
   "execution_count": 4,
   "metadata": {},
   "outputs": [],
   "source": [
    "processed_data, data = Utils.preprocess(data, \n",
    "                                        stop_words_path='../data/external/stopwords.txt', \n",
    "                                        punc_path='../data/external/punctuation.txt')"
   ]
  },
  {
   "cell_type": "code",
   "execution_count": 5,
   "metadata": {},
   "outputs": [],
   "source": [
    "data_frame = Utils.get_dataframe(data, processed_data)"
   ]
  },
  {
   "cell_type": "code",
   "execution_count": 6,
   "metadata": {},
   "outputs": [
    {
     "data": {
      "text/html": [
       "<div>\n",
       "<style scoped>\n",
       "    .dataframe tbody tr th:only-of-type {\n",
       "        vertical-align: middle;\n",
       "    }\n",
       "\n",
       "    .dataframe tbody tr th {\n",
       "        vertical-align: top;\n",
       "    }\n",
       "\n",
       "    .dataframe thead th {\n",
       "        text-align: right;\n",
       "    }\n",
       "</style>\n",
       "<table border=\"1\" class=\"dataframe\">\n",
       "  <thead>\n",
       "    <tr style=\"text-align: right;\">\n",
       "      <th></th>\n",
       "      <th>raw</th>\n",
       "      <th>processed</th>\n",
       "      <th>doc</th>\n",
       "      <th>pos</th>\n",
       "    </tr>\n",
       "  </thead>\n",
       "  <tbody>\n",
       "    <tr>\n",
       "      <th>0</th>\n",
       "      <td>Bà Thái, một nhà lãnh đạo cương quyết, đưa Dân...</td>\n",
       "      <td>bà thái một nhà lãnh_đạo cương_quyết đưa dân t...</td>\n",
       "      <td>17.txt</td>\n",
       "      <td>1</td>\n",
       "    </tr>\n",
       "    <tr>\n",
       "      <th>1</th>\n",
       "      <td>DPP có truyền thống tìm sự độc lập khỏi Trung ...</td>\n",
       "      <td>dpp truyền_thống tìm độc_lập khỏi trung_quốc c...</td>\n",
       "      <td>17.txt</td>\n",
       "      <td>2</td>\n",
       "    </tr>\n",
       "    <tr>\n",
       "      <th>2</th>\n",
       "      <td>Trung Quốc luôn coi Đài Loan là một tỉnh ly khai.</td>\n",
       "      <td>trung_quốc luôn coi đài_loan một tỉnh ly_khai</td>\n",
       "      <td>17.txt</td>\n",
       "      <td>3</td>\n",
       "    </tr>\n",
       "    <tr>\n",
       "      <th>3</th>\n",
       "      <td>Trong quá khứ, Bắc Kinh đã đe dọa sẽ giành lại...</td>\n",
       "      <td>trong quá_khứ bắc_kinh đe_dọa giành đảo bằng v...</td>\n",
       "      <td>17.txt</td>\n",
       "      <td>4</td>\n",
       "    </tr>\n",
       "    <tr>\n",
       "      <th>4</th>\n",
       "      <td>Bà Thái đã cho biết sẽ bảo vệ nguyên trạng với...</td>\n",
       "      <td>bà thái biết bảo_vệ nguyên_trạng trung_quốc bắ...</td>\n",
       "      <td>17.txt</td>\n",
       "      <td>5</td>\n",
       "    </tr>\n",
       "  </tbody>\n",
       "</table>\n",
       "</div>"
      ],
      "text/plain": [
       "                                                 raw  \\\n",
       "0  Bà Thái, một nhà lãnh đạo cương quyết, đưa Dân...   \n",
       "1  DPP có truyền thống tìm sự độc lập khỏi Trung ...   \n",
       "2  Trung Quốc luôn coi Đài Loan là một tỉnh ly khai.   \n",
       "3  Trong quá khứ, Bắc Kinh đã đe dọa sẽ giành lại...   \n",
       "4  Bà Thái đã cho biết sẽ bảo vệ nguyên trạng với...   \n",
       "\n",
       "                                           processed     doc  pos  \n",
       "0  bà thái một nhà lãnh_đạo cương_quyết đưa dân t...  17.txt    1  \n",
       "1  dpp truyền_thống tìm độc_lập khỏi trung_quốc c...  17.txt    2  \n",
       "2      trung_quốc luôn coi đài_loan một tỉnh ly_khai  17.txt    3  \n",
       "3  trong quá_khứ bắc_kinh đe_dọa giành đảo bằng v...  17.txt    4  \n",
       "4  bà thái biết bảo_vệ nguyên_trạng trung_quốc bắ...  17.txt    5  "
      ]
     },
     "execution_count": 6,
     "metadata": {},
     "output_type": "execute_result"
    }
   ],
   "source": [
    "data_frame.head()"
   ]
  },
  {
   "cell_type": "code",
   "execution_count": 7,
   "metadata": {},
   "outputs": [],
   "source": [
    "centroids = Utils.get_centroid(data_frame.processed.to_list(), data_frame.doc.to_list(), n_centroid=20)"
   ]
  },
  {
   "cell_type": "code",
   "execution_count": 8,
   "metadata": {
    "scrolled": true
   },
   "outputs": [
    {
     "data": {
      "text/plain": [
       "[('đài_loan', 12.740478729740342),\n",
       " ('bà', 11.413191325468304),\n",
       " ('trong', 10.828854996418254),\n",
       " ('trung_quốc', 10.260871289699066),\n",
       " ('thái', 9.298321574921529),\n",
       " ('anh', 9.024330654586963),\n",
       " ('văn', 7.704432549548676),\n",
       " ('cuộc', 7.549042468104265),\n",
       " ('một', 7.520594738462229),\n",
       " ('bắc_kinh', 7.151445888582619),\n",
       " ('quan_hệ', 6.156387320719515),\n",
       " ('lãnh_đạo', 5.843625194952505),\n",
       " ('về', 5.660044921500782),\n",
       " ('nhậm_chức', 5.4487162147913555),\n",
       " ('đảng', 5.259262675457255),\n",
       " ('kinh_tế', 4.863353013012219),\n",
       " ('năm', 4.863353013012219),\n",
       " ('người', 4.759690538635739),\n",
       " ('bầu_cử', 4.656201231405311),\n",
       " ('tập_trận', 4.656201231405311)]"
      ]
     },
     "execution_count": 8,
     "metadata": {},
     "output_type": "execute_result"
    }
   ],
   "source": [
    "centroids"
   ]
  }
 ],
 "metadata": {
  "kernelspec": {
   "display_name": "Python 3",
   "language": "python",
   "name": "python3"
  },
  "language_info": {
   "codemirror_mode": {
    "name": "ipython",
    "version": 3
   },
   "file_extension": ".py",
   "mimetype": "text/x-python",
   "name": "python",
   "nbconvert_exporter": "python",
   "pygments_lexer": "ipython3",
   "version": "3.7.9"
  }
 },
 "nbformat": 4,
 "nbformat_minor": 2
}
